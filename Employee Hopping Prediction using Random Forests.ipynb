{
 "cells": [
  {
   "cell_type": "markdown",
   "id": "6e4849ed",
   "metadata": {},
   "source": [
    "## Employee Hopping Prediction using Random Forests"
   ]
  },
  {
   "cell_type": "markdown",
   "id": "15e27faa",
   "metadata": {
    "id": "15e27faa"
   },
   "source": [
    "#### Step1 [Understand Data]"
   ]
  },
  {
   "cell_type": "code",
   "execution_count": 2,
   "id": "4f01a3fa",
   "metadata": {
    "id": "4f01a3fa"
   },
   "outputs": [],
   "source": [
    "import pandas as pd"
   ]
  },
  {
   "cell_type": "code",
   "execution_count": 3,
   "id": "b3d27257",
   "metadata": {
    "id": "b3d27257"
   },
   "outputs": [],
   "source": [
    "df = pd.read_csv('Employee_hopping.csv')"
   ]
  },
  {
   "cell_type": "code",
   "execution_count": 4,
   "id": "65c58802",
   "metadata": {
    "colab": {
     "base_uri": "https://localhost:8080/",
     "height": 369
    },
    "id": "65c58802",
    "outputId": "fdd1ac55-1d2e-4aaf-bb58-e3133d03b69e"
   },
   "outputs": [
    {
     "data": {
      "text/html": [
       "<div>\n",
       "<style scoped>\n",
       "    .dataframe tbody tr th:only-of-type {\n",
       "        vertical-align: middle;\n",
       "    }\n",
       "\n",
       "    .dataframe tbody tr th {\n",
       "        vertical-align: top;\n",
       "    }\n",
       "\n",
       "    .dataframe thead th {\n",
       "        text-align: right;\n",
       "    }\n",
       "</style>\n",
       "<table border=\"1\" class=\"dataframe\">\n",
       "  <thead>\n",
       "    <tr style=\"text-align: right;\">\n",
       "      <th></th>\n",
       "      <th>Age</th>\n",
       "      <th>Attrition</th>\n",
       "      <th>BusinessTravel</th>\n",
       "      <th>DailyRate</th>\n",
       "      <th>Department</th>\n",
       "      <th>DistanceFromHome</th>\n",
       "      <th>Education</th>\n",
       "      <th>EducationField</th>\n",
       "      <th>EmployeeCount</th>\n",
       "      <th>EmployeeNumber</th>\n",
       "      <th>...</th>\n",
       "      <th>RelationshipSatisfaction</th>\n",
       "      <th>StandardHours</th>\n",
       "      <th>StockOptionLevel</th>\n",
       "      <th>TotalWorkingYears</th>\n",
       "      <th>TrainingTimesLastYear</th>\n",
       "      <th>WorkLifeBalance</th>\n",
       "      <th>YearsAtCompany</th>\n",
       "      <th>YearsInCurrentRole</th>\n",
       "      <th>YearsSinceLastPromotion</th>\n",
       "      <th>YearsWithCurrManager</th>\n",
       "    </tr>\n",
       "  </thead>\n",
       "  <tbody>\n",
       "    <tr>\n",
       "      <th>0</th>\n",
       "      <td>41</td>\n",
       "      <td>Yes</td>\n",
       "      <td>Travel_Rarely</td>\n",
       "      <td>1102</td>\n",
       "      <td>Sales</td>\n",
       "      <td>1</td>\n",
       "      <td>2</td>\n",
       "      <td>Life Sciences</td>\n",
       "      <td>1</td>\n",
       "      <td>1</td>\n",
       "      <td>...</td>\n",
       "      <td>1</td>\n",
       "      <td>80</td>\n",
       "      <td>0</td>\n",
       "      <td>8</td>\n",
       "      <td>0</td>\n",
       "      <td>1</td>\n",
       "      <td>6</td>\n",
       "      <td>4</td>\n",
       "      <td>0</td>\n",
       "      <td>5</td>\n",
       "    </tr>\n",
       "    <tr>\n",
       "      <th>1</th>\n",
       "      <td>49</td>\n",
       "      <td>No</td>\n",
       "      <td>Travel_Frequently</td>\n",
       "      <td>279</td>\n",
       "      <td>Research &amp; Development</td>\n",
       "      <td>8</td>\n",
       "      <td>1</td>\n",
       "      <td>Life Sciences</td>\n",
       "      <td>1</td>\n",
       "      <td>2</td>\n",
       "      <td>...</td>\n",
       "      <td>4</td>\n",
       "      <td>80</td>\n",
       "      <td>1</td>\n",
       "      <td>10</td>\n",
       "      <td>3</td>\n",
       "      <td>3</td>\n",
       "      <td>10</td>\n",
       "      <td>7</td>\n",
       "      <td>1</td>\n",
       "      <td>7</td>\n",
       "    </tr>\n",
       "    <tr>\n",
       "      <th>2</th>\n",
       "      <td>37</td>\n",
       "      <td>Yes</td>\n",
       "      <td>Travel_Rarely</td>\n",
       "      <td>1373</td>\n",
       "      <td>Research &amp; Development</td>\n",
       "      <td>2</td>\n",
       "      <td>2</td>\n",
       "      <td>Other</td>\n",
       "      <td>1</td>\n",
       "      <td>4</td>\n",
       "      <td>...</td>\n",
       "      <td>2</td>\n",
       "      <td>80</td>\n",
       "      <td>0</td>\n",
       "      <td>7</td>\n",
       "      <td>3</td>\n",
       "      <td>3</td>\n",
       "      <td>0</td>\n",
       "      <td>0</td>\n",
       "      <td>0</td>\n",
       "      <td>0</td>\n",
       "    </tr>\n",
       "    <tr>\n",
       "      <th>3</th>\n",
       "      <td>33</td>\n",
       "      <td>No</td>\n",
       "      <td>Travel_Frequently</td>\n",
       "      <td>1392</td>\n",
       "      <td>Research &amp; Development</td>\n",
       "      <td>3</td>\n",
       "      <td>4</td>\n",
       "      <td>Life Sciences</td>\n",
       "      <td>1</td>\n",
       "      <td>5</td>\n",
       "      <td>...</td>\n",
       "      <td>3</td>\n",
       "      <td>80</td>\n",
       "      <td>0</td>\n",
       "      <td>8</td>\n",
       "      <td>3</td>\n",
       "      <td>3</td>\n",
       "      <td>8</td>\n",
       "      <td>7</td>\n",
       "      <td>3</td>\n",
       "      <td>0</td>\n",
       "    </tr>\n",
       "    <tr>\n",
       "      <th>4</th>\n",
       "      <td>27</td>\n",
       "      <td>No</td>\n",
       "      <td>Travel_Rarely</td>\n",
       "      <td>591</td>\n",
       "      <td>Research &amp; Development</td>\n",
       "      <td>2</td>\n",
       "      <td>1</td>\n",
       "      <td>Medical</td>\n",
       "      <td>1</td>\n",
       "      <td>7</td>\n",
       "      <td>...</td>\n",
       "      <td>4</td>\n",
       "      <td>80</td>\n",
       "      <td>1</td>\n",
       "      <td>6</td>\n",
       "      <td>3</td>\n",
       "      <td>3</td>\n",
       "      <td>2</td>\n",
       "      <td>2</td>\n",
       "      <td>2</td>\n",
       "      <td>2</td>\n",
       "    </tr>\n",
       "  </tbody>\n",
       "</table>\n",
       "<p>5 rows × 35 columns</p>\n",
       "</div>"
      ],
      "text/plain": [
       "   Age Attrition     BusinessTravel  DailyRate              Department  \\\n",
       "0   41       Yes      Travel_Rarely       1102                   Sales   \n",
       "1   49        No  Travel_Frequently        279  Research & Development   \n",
       "2   37       Yes      Travel_Rarely       1373  Research & Development   \n",
       "3   33        No  Travel_Frequently       1392  Research & Development   \n",
       "4   27        No      Travel_Rarely        591  Research & Development   \n",
       "\n",
       "   DistanceFromHome  Education EducationField  EmployeeCount  EmployeeNumber  \\\n",
       "0                 1          2  Life Sciences              1               1   \n",
       "1                 8          1  Life Sciences              1               2   \n",
       "2                 2          2          Other              1               4   \n",
       "3                 3          4  Life Sciences              1               5   \n",
       "4                 2          1        Medical              1               7   \n",
       "\n",
       "   ...  RelationshipSatisfaction StandardHours  StockOptionLevel  \\\n",
       "0  ...                         1            80                 0   \n",
       "1  ...                         4            80                 1   \n",
       "2  ...                         2            80                 0   \n",
       "3  ...                         3            80                 0   \n",
       "4  ...                         4            80                 1   \n",
       "\n",
       "   TotalWorkingYears  TrainingTimesLastYear WorkLifeBalance  YearsAtCompany  \\\n",
       "0                  8                      0               1               6   \n",
       "1                 10                      3               3              10   \n",
       "2                  7                      3               3               0   \n",
       "3                  8                      3               3               8   \n",
       "4                  6                      3               3               2   \n",
       "\n",
       "  YearsInCurrentRole  YearsSinceLastPromotion  YearsWithCurrManager  \n",
       "0                  4                        0                     5  \n",
       "1                  7                        1                     7  \n",
       "2                  0                        0                     0  \n",
       "3                  7                        3                     0  \n",
       "4                  2                        2                     2  \n",
       "\n",
       "[5 rows x 35 columns]"
      ]
     },
     "execution_count": 4,
     "metadata": {},
     "output_type": "execute_result"
    }
   ],
   "source": [
    "df.head()"
   ]
  },
  {
   "cell_type": "code",
   "execution_count": 5,
   "id": "73730d9c",
   "metadata": {
    "colab": {
     "base_uri": "https://localhost:8080/"
    },
    "id": "73730d9c",
    "outputId": "af513958-67a1-4e7c-b1e6-999ea7f08f58"
   },
   "outputs": [
    {
     "data": {
      "text/plain": [
       "(1470, 35)"
      ]
     },
     "execution_count": 5,
     "metadata": {},
     "output_type": "execute_result"
    }
   ],
   "source": [
    "df.shape"
   ]
  },
  {
   "cell_type": "code",
   "execution_count": 6,
   "id": "5682b745",
   "metadata": {
    "colab": {
     "base_uri": "https://localhost:8080/"
    },
    "id": "5682b745",
    "outputId": "a71faded-611b-4ce3-a17a-86158a61b3dd"
   },
   "outputs": [
    {
     "data": {
      "text/plain": [
       "Index(['Age', 'Attrition', 'BusinessTravel', 'DailyRate', 'Department',\n",
       "       'DistanceFromHome', 'Education', 'EducationField', 'EmployeeCount',\n",
       "       'EmployeeNumber', 'EnvironmentSatisfaction', 'Gender', 'HourlyRate',\n",
       "       'JobInvolvement', 'JobLevel', 'JobRole', 'JobSatisfaction',\n",
       "       'MaritalStatus', 'MonthlyIncome', 'MonthlyRate', 'NumCompaniesWorked',\n",
       "       'Over18', 'OverTime', 'PercentSalaryHike', 'PerformanceRating',\n",
       "       'RelationshipSatisfaction', 'StandardHours', 'StockOptionLevel',\n",
       "       'TotalWorkingYears', 'TrainingTimesLastYear', 'WorkLifeBalance',\n",
       "       'YearsAtCompany', 'YearsInCurrentRole', 'YearsSinceLastPromotion',\n",
       "       'YearsWithCurrManager'],\n",
       "      dtype='object')"
      ]
     },
     "execution_count": 6,
     "metadata": {},
     "output_type": "execute_result"
    }
   ],
   "source": [
    "df.columns"
   ]
  },
  {
   "cell_type": "code",
   "execution_count": 7,
   "id": "ebc87268",
   "metadata": {
    "colab": {
     "base_uri": "https://localhost:8080/"
    },
    "id": "ebc87268",
    "outputId": "80fd4313-d604-4825-b662-9d1893ace2ce"
   },
   "outputs": [
    {
     "data": {
      "text/plain": [
       "Age                          int64\n",
       "Attrition                   object\n",
       "BusinessTravel              object\n",
       "DailyRate                    int64\n",
       "Department                  object\n",
       "DistanceFromHome             int64\n",
       "Education                    int64\n",
       "EducationField              object\n",
       "EmployeeCount                int64\n",
       "EmployeeNumber               int64\n",
       "EnvironmentSatisfaction      int64\n",
       "Gender                      object\n",
       "HourlyRate                   int64\n",
       "JobInvolvement               int64\n",
       "JobLevel                     int64\n",
       "JobRole                     object\n",
       "JobSatisfaction              int64\n",
       "MaritalStatus               object\n",
       "MonthlyIncome                int64\n",
       "MonthlyRate                  int64\n",
       "NumCompaniesWorked           int64\n",
       "Over18                      object\n",
       "OverTime                    object\n",
       "PercentSalaryHike            int64\n",
       "PerformanceRating            int64\n",
       "RelationshipSatisfaction     int64\n",
       "StandardHours                int64\n",
       "StockOptionLevel             int64\n",
       "TotalWorkingYears            int64\n",
       "TrainingTimesLastYear        int64\n",
       "WorkLifeBalance              int64\n",
       "YearsAtCompany               int64\n",
       "YearsInCurrentRole           int64\n",
       "YearsSinceLastPromotion      int64\n",
       "YearsWithCurrManager         int64\n",
       "dtype: object"
      ]
     },
     "execution_count": 7,
     "metadata": {},
     "output_type": "execute_result"
    }
   ],
   "source": [
    "df.dtypes"
   ]
  },
  {
   "cell_type": "code",
   "execution_count": 8,
   "id": "8c3c55df",
   "metadata": {
    "colab": {
     "base_uri": "https://localhost:8080/"
    },
    "id": "8c3c55df",
    "outputId": "fdbe9e2b-09f9-46fd-a1a0-729bd39ffec9"
   },
   "outputs": [
    {
     "name": "stdout",
     "output_type": "stream",
     "text": [
      "<class 'pandas.core.frame.DataFrame'>\n",
      "RangeIndex: 1470 entries, 0 to 1469\n",
      "Data columns (total 35 columns):\n",
      " #   Column                    Non-Null Count  Dtype \n",
      "---  ------                    --------------  ----- \n",
      " 0   Age                       1470 non-null   int64 \n",
      " 1   Attrition                 1470 non-null   object\n",
      " 2   BusinessTravel            1470 non-null   object\n",
      " 3   DailyRate                 1470 non-null   int64 \n",
      " 4   Department                1470 non-null   object\n",
      " 5   DistanceFromHome          1470 non-null   int64 \n",
      " 6   Education                 1470 non-null   int64 \n",
      " 7   EducationField            1470 non-null   object\n",
      " 8   EmployeeCount             1470 non-null   int64 \n",
      " 9   EmployeeNumber            1470 non-null   int64 \n",
      " 10  EnvironmentSatisfaction   1470 non-null   int64 \n",
      " 11  Gender                    1470 non-null   object\n",
      " 12  HourlyRate                1470 non-null   int64 \n",
      " 13  JobInvolvement            1470 non-null   int64 \n",
      " 14  JobLevel                  1470 non-null   int64 \n",
      " 15  JobRole                   1470 non-null   object\n",
      " 16  JobSatisfaction           1470 non-null   int64 \n",
      " 17  MaritalStatus             1470 non-null   object\n",
      " 18  MonthlyIncome             1470 non-null   int64 \n",
      " 19  MonthlyRate               1470 non-null   int64 \n",
      " 20  NumCompaniesWorked        1470 non-null   int64 \n",
      " 21  Over18                    1470 non-null   object\n",
      " 22  OverTime                  1470 non-null   object\n",
      " 23  PercentSalaryHike         1470 non-null   int64 \n",
      " 24  PerformanceRating         1470 non-null   int64 \n",
      " 25  RelationshipSatisfaction  1470 non-null   int64 \n",
      " 26  StandardHours             1470 non-null   int64 \n",
      " 27  StockOptionLevel          1470 non-null   int64 \n",
      " 28  TotalWorkingYears         1470 non-null   int64 \n",
      " 29  TrainingTimesLastYear     1470 non-null   int64 \n",
      " 30  WorkLifeBalance           1470 non-null   int64 \n",
      " 31  YearsAtCompany            1470 non-null   int64 \n",
      " 32  YearsInCurrentRole        1470 non-null   int64 \n",
      " 33  YearsSinceLastPromotion   1470 non-null   int64 \n",
      " 34  YearsWithCurrManager      1470 non-null   int64 \n",
      "dtypes: int64(26), object(9)\n",
      "memory usage: 402.1+ KB\n"
     ]
    }
   ],
   "source": [
    "df.info()"
   ]
  },
  {
   "cell_type": "code",
   "execution_count": 9,
   "id": "1f3ba80c",
   "metadata": {
    "colab": {
     "base_uri": "https://localhost:8080/"
    },
    "id": "1f3ba80c",
    "outputId": "2a84399f-f677-43f9-b369-e5e218a68589"
   },
   "outputs": [
    {
     "data": {
      "text/plain": [
       "Age  Attrition  BusinessTravel  DailyRate  Department              DistanceFromHome  Education  EducationField    EmployeeCount  EmployeeNumber  EnvironmentSatisfaction  Gender  HourlyRate  JobInvolvement  JobLevel  JobRole                JobSatisfaction  MaritalStatus  MonthlyIncome  MonthlyRate  NumCompaniesWorked  Over18  OverTime  PercentSalaryHike  PerformanceRating  RelationshipSatisfaction  StandardHours  StockOptionLevel  TotalWorkingYears  TrainingTimesLastYear  WorkLifeBalance  YearsAtCompany  YearsInCurrentRole  YearsSinceLastPromotion  YearsWithCurrManager\n",
       "18   No         Non-Travel      287        Research & Development  5                 2          Life Sciences     1              1012            2                        Male    73          3               1         Research Scientist     4                Single         1051           13493        1                   Y       No        15                 3                  4                         80             0                 0                  2                      3                0               0                   0                        0                       1\n",
       "40   No         Travel_Rarely   1124       Sales                   1                 2          Medical           1              453             2                        Male    57          1               2         Sales Executive        4                Married        7457           13273        2                   Y       Yes       22                 4                  3                         80             3                 6                  2                      2                4               3                   0                        2                       1\n",
       "                                905        Research & Development  19                2          Medical           1              281             3                        Male    99          3               2         Laboratory Technician  4                Married        2741           16523        8                   Y       Yes       15                 3                  3                         80             1                 15                 2                      4                7               2                   3                        7                       1\n",
       "                                898        Human Resources         6                 2          Medical           1              1550            3                        Male    38          3               4         Manager                4                Single         16437          17381        1                   Y       Yes       21                 4                  4                         80             0                 21                 2                      3                21              7                   7                        7                       1\n",
       "                                896        Research & Development  2                 3          Medical           1              1474            3                        Male    68          3               1         Research Scientist     3                Divorced       2345           8045         2                   Y       No        14                 3                  3                         80             1                 8                  3                      4                3               1                   1                        2                       1\n",
       "                                                                                                                                                                                                                                                                                                                                                                                                                                                                                                                                                                                                 ..\n",
       "32   No         Travel_Rarely   604        Sales                   8                 3          Medical           1              1304            3                        Male    56          4               2         Sales Executive        4                Married        6209           11693        1                   Y       No        15                 3                  3                         80             2                 10                 4                      4                10              7                   0                        8                       1\n",
       "                                601        Sales                   7                 5          Marketing         1              1446            4                        Male    97          3               2         Sales Executive        4                Married        9204           23343        4                   Y       No        12                 3                  3                         80             1                 7                  3                      2                4               3                   0                        3                       1\n",
       "                                588        Sales                   8                 2          Technical Degree  1              436             3                        Female  65          2               2         Sales Executive        2                Married        5228           24624        1                   Y       Yes       11                 3                  4                         80             0                 13                 2                      3                13              12                  11                       9                       1\n",
       "                                548        Research & Development  1                 3          Life Sciences     1              96              2                        Male    66          3               2         Research Scientist     2                Married        6220           7346         1                   Y       No        17                 3                  2                         80             2                 10                 3                      3                10              4                   0                        9                       1\n",
       "60   No         Travel_Rarely   1179       Sales                   16                4          Marketing         1              732             1                        Male    84          3               2         Sales Executive        1                Single         5405           11924        8                   Y       No        14                 3                  4                         80             0                 10                 1                      3                2               2                   2                        2                       1\n",
       "Length: 1470, dtype: int64"
      ]
     },
     "execution_count": 9,
     "metadata": {},
     "output_type": "execute_result"
    }
   ],
   "source": [
    "df.value_counts()"
   ]
  },
  {
   "cell_type": "markdown",
   "id": "c557b813",
   "metadata": {
    "id": "c557b813"
   },
   "source": [
    "#### Step2 [Extract X and y]"
   ]
  },
  {
   "cell_type": "code",
   "execution_count": 10,
   "id": "019df3cd",
   "metadata": {
    "colab": {
     "base_uri": "https://localhost:8080/",
     "height": 627
    },
    "id": "019df3cd",
    "outputId": "a867dfc4-b76e-434a-b8b5-52392f6be992"
   },
   "outputs": [
    {
     "data": {
      "text/html": [
       "<div>\n",
       "<style scoped>\n",
       "    .dataframe tbody tr th:only-of-type {\n",
       "        vertical-align: middle;\n",
       "    }\n",
       "\n",
       "    .dataframe tbody tr th {\n",
       "        vertical-align: top;\n",
       "    }\n",
       "\n",
       "    .dataframe thead th {\n",
       "        text-align: right;\n",
       "    }\n",
       "</style>\n",
       "<table border=\"1\" class=\"dataframe\">\n",
       "  <thead>\n",
       "    <tr style=\"text-align: right;\">\n",
       "      <th></th>\n",
       "      <th>Age</th>\n",
       "      <th>BusinessTravel</th>\n",
       "      <th>DailyRate</th>\n",
       "      <th>Department</th>\n",
       "      <th>DistanceFromHome</th>\n",
       "      <th>Education</th>\n",
       "      <th>EducationField</th>\n",
       "      <th>EmployeeCount</th>\n",
       "      <th>EmployeeNumber</th>\n",
       "      <th>EnvironmentSatisfaction</th>\n",
       "      <th>...</th>\n",
       "      <th>RelationshipSatisfaction</th>\n",
       "      <th>StandardHours</th>\n",
       "      <th>StockOptionLevel</th>\n",
       "      <th>TotalWorkingYears</th>\n",
       "      <th>TrainingTimesLastYear</th>\n",
       "      <th>WorkLifeBalance</th>\n",
       "      <th>YearsAtCompany</th>\n",
       "      <th>YearsInCurrentRole</th>\n",
       "      <th>YearsSinceLastPromotion</th>\n",
       "      <th>YearsWithCurrManager</th>\n",
       "    </tr>\n",
       "  </thead>\n",
       "  <tbody>\n",
       "    <tr>\n",
       "      <th>0</th>\n",
       "      <td>41</td>\n",
       "      <td>Travel_Rarely</td>\n",
       "      <td>1102</td>\n",
       "      <td>Sales</td>\n",
       "      <td>1</td>\n",
       "      <td>2</td>\n",
       "      <td>Life Sciences</td>\n",
       "      <td>1</td>\n",
       "      <td>1</td>\n",
       "      <td>2</td>\n",
       "      <td>...</td>\n",
       "      <td>1</td>\n",
       "      <td>80</td>\n",
       "      <td>0</td>\n",
       "      <td>8</td>\n",
       "      <td>0</td>\n",
       "      <td>1</td>\n",
       "      <td>6</td>\n",
       "      <td>4</td>\n",
       "      <td>0</td>\n",
       "      <td>5</td>\n",
       "    </tr>\n",
       "    <tr>\n",
       "      <th>1</th>\n",
       "      <td>49</td>\n",
       "      <td>Travel_Frequently</td>\n",
       "      <td>279</td>\n",
       "      <td>Research &amp; Development</td>\n",
       "      <td>8</td>\n",
       "      <td>1</td>\n",
       "      <td>Life Sciences</td>\n",
       "      <td>1</td>\n",
       "      <td>2</td>\n",
       "      <td>3</td>\n",
       "      <td>...</td>\n",
       "      <td>4</td>\n",
       "      <td>80</td>\n",
       "      <td>1</td>\n",
       "      <td>10</td>\n",
       "      <td>3</td>\n",
       "      <td>3</td>\n",
       "      <td>10</td>\n",
       "      <td>7</td>\n",
       "      <td>1</td>\n",
       "      <td>7</td>\n",
       "    </tr>\n",
       "    <tr>\n",
       "      <th>2</th>\n",
       "      <td>37</td>\n",
       "      <td>Travel_Rarely</td>\n",
       "      <td>1373</td>\n",
       "      <td>Research &amp; Development</td>\n",
       "      <td>2</td>\n",
       "      <td>2</td>\n",
       "      <td>Other</td>\n",
       "      <td>1</td>\n",
       "      <td>4</td>\n",
       "      <td>4</td>\n",
       "      <td>...</td>\n",
       "      <td>2</td>\n",
       "      <td>80</td>\n",
       "      <td>0</td>\n",
       "      <td>7</td>\n",
       "      <td>3</td>\n",
       "      <td>3</td>\n",
       "      <td>0</td>\n",
       "      <td>0</td>\n",
       "      <td>0</td>\n",
       "      <td>0</td>\n",
       "    </tr>\n",
       "    <tr>\n",
       "      <th>3</th>\n",
       "      <td>33</td>\n",
       "      <td>Travel_Frequently</td>\n",
       "      <td>1392</td>\n",
       "      <td>Research &amp; Development</td>\n",
       "      <td>3</td>\n",
       "      <td>4</td>\n",
       "      <td>Life Sciences</td>\n",
       "      <td>1</td>\n",
       "      <td>5</td>\n",
       "      <td>4</td>\n",
       "      <td>...</td>\n",
       "      <td>3</td>\n",
       "      <td>80</td>\n",
       "      <td>0</td>\n",
       "      <td>8</td>\n",
       "      <td>3</td>\n",
       "      <td>3</td>\n",
       "      <td>8</td>\n",
       "      <td>7</td>\n",
       "      <td>3</td>\n",
       "      <td>0</td>\n",
       "    </tr>\n",
       "    <tr>\n",
       "      <th>4</th>\n",
       "      <td>27</td>\n",
       "      <td>Travel_Rarely</td>\n",
       "      <td>591</td>\n",
       "      <td>Research &amp; Development</td>\n",
       "      <td>2</td>\n",
       "      <td>1</td>\n",
       "      <td>Medical</td>\n",
       "      <td>1</td>\n",
       "      <td>7</td>\n",
       "      <td>1</td>\n",
       "      <td>...</td>\n",
       "      <td>4</td>\n",
       "      <td>80</td>\n",
       "      <td>1</td>\n",
       "      <td>6</td>\n",
       "      <td>3</td>\n",
       "      <td>3</td>\n",
       "      <td>2</td>\n",
       "      <td>2</td>\n",
       "      <td>2</td>\n",
       "      <td>2</td>\n",
       "    </tr>\n",
       "    <tr>\n",
       "      <th>...</th>\n",
       "      <td>...</td>\n",
       "      <td>...</td>\n",
       "      <td>...</td>\n",
       "      <td>...</td>\n",
       "      <td>...</td>\n",
       "      <td>...</td>\n",
       "      <td>...</td>\n",
       "      <td>...</td>\n",
       "      <td>...</td>\n",
       "      <td>...</td>\n",
       "      <td>...</td>\n",
       "      <td>...</td>\n",
       "      <td>...</td>\n",
       "      <td>...</td>\n",
       "      <td>...</td>\n",
       "      <td>...</td>\n",
       "      <td>...</td>\n",
       "      <td>...</td>\n",
       "      <td>...</td>\n",
       "      <td>...</td>\n",
       "      <td>...</td>\n",
       "    </tr>\n",
       "    <tr>\n",
       "      <th>1465</th>\n",
       "      <td>36</td>\n",
       "      <td>Travel_Frequently</td>\n",
       "      <td>884</td>\n",
       "      <td>Research &amp; Development</td>\n",
       "      <td>23</td>\n",
       "      <td>2</td>\n",
       "      <td>Medical</td>\n",
       "      <td>1</td>\n",
       "      <td>2061</td>\n",
       "      <td>3</td>\n",
       "      <td>...</td>\n",
       "      <td>3</td>\n",
       "      <td>80</td>\n",
       "      <td>1</td>\n",
       "      <td>17</td>\n",
       "      <td>3</td>\n",
       "      <td>3</td>\n",
       "      <td>5</td>\n",
       "      <td>2</td>\n",
       "      <td>0</td>\n",
       "      <td>3</td>\n",
       "    </tr>\n",
       "    <tr>\n",
       "      <th>1466</th>\n",
       "      <td>39</td>\n",
       "      <td>Travel_Rarely</td>\n",
       "      <td>613</td>\n",
       "      <td>Research &amp; Development</td>\n",
       "      <td>6</td>\n",
       "      <td>1</td>\n",
       "      <td>Medical</td>\n",
       "      <td>1</td>\n",
       "      <td>2062</td>\n",
       "      <td>4</td>\n",
       "      <td>...</td>\n",
       "      <td>1</td>\n",
       "      <td>80</td>\n",
       "      <td>1</td>\n",
       "      <td>9</td>\n",
       "      <td>5</td>\n",
       "      <td>3</td>\n",
       "      <td>7</td>\n",
       "      <td>7</td>\n",
       "      <td>1</td>\n",
       "      <td>7</td>\n",
       "    </tr>\n",
       "    <tr>\n",
       "      <th>1467</th>\n",
       "      <td>27</td>\n",
       "      <td>Travel_Rarely</td>\n",
       "      <td>155</td>\n",
       "      <td>Research &amp; Development</td>\n",
       "      <td>4</td>\n",
       "      <td>3</td>\n",
       "      <td>Life Sciences</td>\n",
       "      <td>1</td>\n",
       "      <td>2064</td>\n",
       "      <td>2</td>\n",
       "      <td>...</td>\n",
       "      <td>2</td>\n",
       "      <td>80</td>\n",
       "      <td>1</td>\n",
       "      <td>6</td>\n",
       "      <td>0</td>\n",
       "      <td>3</td>\n",
       "      <td>6</td>\n",
       "      <td>2</td>\n",
       "      <td>0</td>\n",
       "      <td>3</td>\n",
       "    </tr>\n",
       "    <tr>\n",
       "      <th>1468</th>\n",
       "      <td>49</td>\n",
       "      <td>Travel_Frequently</td>\n",
       "      <td>1023</td>\n",
       "      <td>Sales</td>\n",
       "      <td>2</td>\n",
       "      <td>3</td>\n",
       "      <td>Medical</td>\n",
       "      <td>1</td>\n",
       "      <td>2065</td>\n",
       "      <td>4</td>\n",
       "      <td>...</td>\n",
       "      <td>4</td>\n",
       "      <td>80</td>\n",
       "      <td>0</td>\n",
       "      <td>17</td>\n",
       "      <td>3</td>\n",
       "      <td>2</td>\n",
       "      <td>9</td>\n",
       "      <td>6</td>\n",
       "      <td>0</td>\n",
       "      <td>8</td>\n",
       "    </tr>\n",
       "    <tr>\n",
       "      <th>1469</th>\n",
       "      <td>34</td>\n",
       "      <td>Travel_Rarely</td>\n",
       "      <td>628</td>\n",
       "      <td>Research &amp; Development</td>\n",
       "      <td>8</td>\n",
       "      <td>3</td>\n",
       "      <td>Medical</td>\n",
       "      <td>1</td>\n",
       "      <td>2068</td>\n",
       "      <td>2</td>\n",
       "      <td>...</td>\n",
       "      <td>1</td>\n",
       "      <td>80</td>\n",
       "      <td>0</td>\n",
       "      <td>6</td>\n",
       "      <td>3</td>\n",
       "      <td>4</td>\n",
       "      <td>4</td>\n",
       "      <td>3</td>\n",
       "      <td>1</td>\n",
       "      <td>2</td>\n",
       "    </tr>\n",
       "  </tbody>\n",
       "</table>\n",
       "<p>1470 rows × 34 columns</p>\n",
       "</div>"
      ],
      "text/plain": [
       "      Age     BusinessTravel  DailyRate              Department  \\\n",
       "0      41      Travel_Rarely       1102                   Sales   \n",
       "1      49  Travel_Frequently        279  Research & Development   \n",
       "2      37      Travel_Rarely       1373  Research & Development   \n",
       "3      33  Travel_Frequently       1392  Research & Development   \n",
       "4      27      Travel_Rarely        591  Research & Development   \n",
       "...   ...                ...        ...                     ...   \n",
       "1465   36  Travel_Frequently        884  Research & Development   \n",
       "1466   39      Travel_Rarely        613  Research & Development   \n",
       "1467   27      Travel_Rarely        155  Research & Development   \n",
       "1468   49  Travel_Frequently       1023                   Sales   \n",
       "1469   34      Travel_Rarely        628  Research & Development   \n",
       "\n",
       "      DistanceFromHome  Education EducationField  EmployeeCount  \\\n",
       "0                    1          2  Life Sciences              1   \n",
       "1                    8          1  Life Sciences              1   \n",
       "2                    2          2          Other              1   \n",
       "3                    3          4  Life Sciences              1   \n",
       "4                    2          1        Medical              1   \n",
       "...                ...        ...            ...            ...   \n",
       "1465                23          2        Medical              1   \n",
       "1466                 6          1        Medical              1   \n",
       "1467                 4          3  Life Sciences              1   \n",
       "1468                 2          3        Medical              1   \n",
       "1469                 8          3        Medical              1   \n",
       "\n",
       "      EmployeeNumber  EnvironmentSatisfaction  ... RelationshipSatisfaction  \\\n",
       "0                  1                        2  ...                        1   \n",
       "1                  2                        3  ...                        4   \n",
       "2                  4                        4  ...                        2   \n",
       "3                  5                        4  ...                        3   \n",
       "4                  7                        1  ...                        4   \n",
       "...              ...                      ...  ...                      ...   \n",
       "1465            2061                        3  ...                        3   \n",
       "1466            2062                        4  ...                        1   \n",
       "1467            2064                        2  ...                        2   \n",
       "1468            2065                        4  ...                        4   \n",
       "1469            2068                        2  ...                        1   \n",
       "\n",
       "      StandardHours  StockOptionLevel  TotalWorkingYears  \\\n",
       "0                80                 0                  8   \n",
       "1                80                 1                 10   \n",
       "2                80                 0                  7   \n",
       "3                80                 0                  8   \n",
       "4                80                 1                  6   \n",
       "...             ...               ...                ...   \n",
       "1465             80                 1                 17   \n",
       "1466             80                 1                  9   \n",
       "1467             80                 1                  6   \n",
       "1468             80                 0                 17   \n",
       "1469             80                 0                  6   \n",
       "\n",
       "     TrainingTimesLastYear  WorkLifeBalance YearsAtCompany  \\\n",
       "0                        0                1              6   \n",
       "1                        3                3             10   \n",
       "2                        3                3              0   \n",
       "3                        3                3              8   \n",
       "4                        3                3              2   \n",
       "...                    ...              ...            ...   \n",
       "1465                     3                3              5   \n",
       "1466                     5                3              7   \n",
       "1467                     0                3              6   \n",
       "1468                     3                2              9   \n",
       "1469                     3                4              4   \n",
       "\n",
       "      YearsInCurrentRole  YearsSinceLastPromotion  YearsWithCurrManager  \n",
       "0                      4                        0                     5  \n",
       "1                      7                        1                     7  \n",
       "2                      0                        0                     0  \n",
       "3                      7                        3                     0  \n",
       "4                      2                        2                     2  \n",
       "...                  ...                      ...                   ...  \n",
       "1465                   2                        0                     3  \n",
       "1466                   7                        1                     7  \n",
       "1467                   2                        0                     3  \n",
       "1468                   6                        0                     8  \n",
       "1469                   3                        1                     2  \n",
       "\n",
       "[1470 rows x 34 columns]"
      ]
     },
     "execution_count": 10,
     "metadata": {},
     "output_type": "execute_result"
    }
   ],
   "source": [
    "X = df.drop('Attrition', axis=1)\n",
    "X"
   ]
  },
  {
   "cell_type": "code",
   "execution_count": 11,
   "id": "00f5f015",
   "metadata": {
    "id": "00f5f015"
   },
   "outputs": [],
   "source": [
    "y = df.Attrition\n",
    "y = y.apply(lambda x:1 if x == 'Yes' else 0)\n"
   ]
  },
  {
   "cell_type": "markdown",
   "id": "1174c1e7",
   "metadata": {
    "id": "1174c1e7"
   },
   "source": [
    "#### Step3 [Feature Engineering]"
   ]
  },
  {
   "cell_type": "code",
   "execution_count": 12,
   "id": "0650c0c5",
   "metadata": {
    "colab": {
     "base_uri": "https://localhost:8080/",
     "height": 424
    },
    "id": "0650c0c5",
    "outputId": "f625050c-588b-48c7-f3c0-657a107deb5a"
   },
   "outputs": [
    {
     "data": {
      "text/html": [
       "<div>\n",
       "<style scoped>\n",
       "    .dataframe tbody tr th:only-of-type {\n",
       "        vertical-align: middle;\n",
       "    }\n",
       "\n",
       "    .dataframe tbody tr th {\n",
       "        vertical-align: top;\n",
       "    }\n",
       "\n",
       "    .dataframe thead th {\n",
       "        text-align: right;\n",
       "    }\n",
       "</style>\n",
       "<table border=\"1\" class=\"dataframe\">\n",
       "  <thead>\n",
       "    <tr style=\"text-align: right;\">\n",
       "      <th></th>\n",
       "      <th>BusinessTravel</th>\n",
       "      <th>Department</th>\n",
       "      <th>EducationField</th>\n",
       "      <th>Gender</th>\n",
       "      <th>JobRole</th>\n",
       "      <th>MaritalStatus</th>\n",
       "      <th>Over18</th>\n",
       "      <th>OverTime</th>\n",
       "    </tr>\n",
       "  </thead>\n",
       "  <tbody>\n",
       "    <tr>\n",
       "      <th>0</th>\n",
       "      <td>Travel_Rarely</td>\n",
       "      <td>Sales</td>\n",
       "      <td>Life Sciences</td>\n",
       "      <td>Female</td>\n",
       "      <td>Sales Executive</td>\n",
       "      <td>Single</td>\n",
       "      <td>Y</td>\n",
       "      <td>Yes</td>\n",
       "    </tr>\n",
       "    <tr>\n",
       "      <th>1</th>\n",
       "      <td>Travel_Frequently</td>\n",
       "      <td>Research &amp; Development</td>\n",
       "      <td>Life Sciences</td>\n",
       "      <td>Male</td>\n",
       "      <td>Research Scientist</td>\n",
       "      <td>Married</td>\n",
       "      <td>Y</td>\n",
       "      <td>No</td>\n",
       "    </tr>\n",
       "    <tr>\n",
       "      <th>2</th>\n",
       "      <td>Travel_Rarely</td>\n",
       "      <td>Research &amp; Development</td>\n",
       "      <td>Other</td>\n",
       "      <td>Male</td>\n",
       "      <td>Laboratory Technician</td>\n",
       "      <td>Single</td>\n",
       "      <td>Y</td>\n",
       "      <td>Yes</td>\n",
       "    </tr>\n",
       "    <tr>\n",
       "      <th>3</th>\n",
       "      <td>Travel_Frequently</td>\n",
       "      <td>Research &amp; Development</td>\n",
       "      <td>Life Sciences</td>\n",
       "      <td>Female</td>\n",
       "      <td>Research Scientist</td>\n",
       "      <td>Married</td>\n",
       "      <td>Y</td>\n",
       "      <td>Yes</td>\n",
       "    </tr>\n",
       "    <tr>\n",
       "      <th>4</th>\n",
       "      <td>Travel_Rarely</td>\n",
       "      <td>Research &amp; Development</td>\n",
       "      <td>Medical</td>\n",
       "      <td>Male</td>\n",
       "      <td>Laboratory Technician</td>\n",
       "      <td>Married</td>\n",
       "      <td>Y</td>\n",
       "      <td>No</td>\n",
       "    </tr>\n",
       "    <tr>\n",
       "      <th>...</th>\n",
       "      <td>...</td>\n",
       "      <td>...</td>\n",
       "      <td>...</td>\n",
       "      <td>...</td>\n",
       "      <td>...</td>\n",
       "      <td>...</td>\n",
       "      <td>...</td>\n",
       "      <td>...</td>\n",
       "    </tr>\n",
       "    <tr>\n",
       "      <th>1465</th>\n",
       "      <td>Travel_Frequently</td>\n",
       "      <td>Research &amp; Development</td>\n",
       "      <td>Medical</td>\n",
       "      <td>Male</td>\n",
       "      <td>Laboratory Technician</td>\n",
       "      <td>Married</td>\n",
       "      <td>Y</td>\n",
       "      <td>No</td>\n",
       "    </tr>\n",
       "    <tr>\n",
       "      <th>1466</th>\n",
       "      <td>Travel_Rarely</td>\n",
       "      <td>Research &amp; Development</td>\n",
       "      <td>Medical</td>\n",
       "      <td>Male</td>\n",
       "      <td>Healthcare Representative</td>\n",
       "      <td>Married</td>\n",
       "      <td>Y</td>\n",
       "      <td>No</td>\n",
       "    </tr>\n",
       "    <tr>\n",
       "      <th>1467</th>\n",
       "      <td>Travel_Rarely</td>\n",
       "      <td>Research &amp; Development</td>\n",
       "      <td>Life Sciences</td>\n",
       "      <td>Male</td>\n",
       "      <td>Manufacturing Director</td>\n",
       "      <td>Married</td>\n",
       "      <td>Y</td>\n",
       "      <td>Yes</td>\n",
       "    </tr>\n",
       "    <tr>\n",
       "      <th>1468</th>\n",
       "      <td>Travel_Frequently</td>\n",
       "      <td>Sales</td>\n",
       "      <td>Medical</td>\n",
       "      <td>Male</td>\n",
       "      <td>Sales Executive</td>\n",
       "      <td>Married</td>\n",
       "      <td>Y</td>\n",
       "      <td>No</td>\n",
       "    </tr>\n",
       "    <tr>\n",
       "      <th>1469</th>\n",
       "      <td>Travel_Rarely</td>\n",
       "      <td>Research &amp; Development</td>\n",
       "      <td>Medical</td>\n",
       "      <td>Male</td>\n",
       "      <td>Laboratory Technician</td>\n",
       "      <td>Married</td>\n",
       "      <td>Y</td>\n",
       "      <td>No</td>\n",
       "    </tr>\n",
       "  </tbody>\n",
       "</table>\n",
       "<p>1470 rows × 8 columns</p>\n",
       "</div>"
      ],
      "text/plain": [
       "         BusinessTravel              Department EducationField  Gender  \\\n",
       "0         Travel_Rarely                   Sales  Life Sciences  Female   \n",
       "1     Travel_Frequently  Research & Development  Life Sciences    Male   \n",
       "2         Travel_Rarely  Research & Development          Other    Male   \n",
       "3     Travel_Frequently  Research & Development  Life Sciences  Female   \n",
       "4         Travel_Rarely  Research & Development        Medical    Male   \n",
       "...                 ...                     ...            ...     ...   \n",
       "1465  Travel_Frequently  Research & Development        Medical    Male   \n",
       "1466      Travel_Rarely  Research & Development        Medical    Male   \n",
       "1467      Travel_Rarely  Research & Development  Life Sciences    Male   \n",
       "1468  Travel_Frequently                   Sales        Medical    Male   \n",
       "1469      Travel_Rarely  Research & Development        Medical    Male   \n",
       "\n",
       "                        JobRole MaritalStatus Over18 OverTime  \n",
       "0               Sales Executive        Single      Y      Yes  \n",
       "1            Research Scientist       Married      Y       No  \n",
       "2         Laboratory Technician        Single      Y      Yes  \n",
       "3            Research Scientist       Married      Y      Yes  \n",
       "4         Laboratory Technician       Married      Y       No  \n",
       "...                         ...           ...    ...      ...  \n",
       "1465      Laboratory Technician       Married      Y       No  \n",
       "1466  Healthcare Representative       Married      Y       No  \n",
       "1467     Manufacturing Director       Married      Y      Yes  \n",
       "1468            Sales Executive       Married      Y       No  \n",
       "1469      Laboratory Technician       Married      Y       No  \n",
       "\n",
       "[1470 rows x 8 columns]"
      ]
     },
     "execution_count": 12,
     "metadata": {},
     "output_type": "execute_result"
    }
   ],
   "source": [
    "obj = X.select_dtypes('object')\n",
    "obj"
   ]
  },
  {
   "cell_type": "code",
   "execution_count": 13,
   "id": "03bf13a6",
   "metadata": {
    "colab": {
     "base_uri": "https://localhost:8080/",
     "height": 488
    },
    "id": "03bf13a6",
    "outputId": "2e781c69-fb2c-4981-81fd-80edae8c9ca2"
   },
   "outputs": [
    {
     "data": {
      "text/html": [
       "<div>\n",
       "<style scoped>\n",
       "    .dataframe tbody tr th:only-of-type {\n",
       "        vertical-align: middle;\n",
       "    }\n",
       "\n",
       "    .dataframe tbody tr th {\n",
       "        vertical-align: top;\n",
       "    }\n",
       "\n",
       "    .dataframe thead th {\n",
       "        text-align: right;\n",
       "    }\n",
       "</style>\n",
       "<table border=\"1\" class=\"dataframe\">\n",
       "  <thead>\n",
       "    <tr style=\"text-align: right;\">\n",
       "      <th></th>\n",
       "      <th>Age</th>\n",
       "      <th>DailyRate</th>\n",
       "      <th>DistanceFromHome</th>\n",
       "      <th>Education</th>\n",
       "      <th>EmployeeCount</th>\n",
       "      <th>EmployeeNumber</th>\n",
       "      <th>EnvironmentSatisfaction</th>\n",
       "      <th>HourlyRate</th>\n",
       "      <th>JobInvolvement</th>\n",
       "      <th>JobLevel</th>\n",
       "      <th>...</th>\n",
       "      <th>RelationshipSatisfaction</th>\n",
       "      <th>StandardHours</th>\n",
       "      <th>StockOptionLevel</th>\n",
       "      <th>TotalWorkingYears</th>\n",
       "      <th>TrainingTimesLastYear</th>\n",
       "      <th>WorkLifeBalance</th>\n",
       "      <th>YearsAtCompany</th>\n",
       "      <th>YearsInCurrentRole</th>\n",
       "      <th>YearsSinceLastPromotion</th>\n",
       "      <th>YearsWithCurrManager</th>\n",
       "    </tr>\n",
       "  </thead>\n",
       "  <tbody>\n",
       "    <tr>\n",
       "      <th>0</th>\n",
       "      <td>41</td>\n",
       "      <td>1102</td>\n",
       "      <td>1</td>\n",
       "      <td>2</td>\n",
       "      <td>1</td>\n",
       "      <td>1</td>\n",
       "      <td>2</td>\n",
       "      <td>94</td>\n",
       "      <td>3</td>\n",
       "      <td>2</td>\n",
       "      <td>...</td>\n",
       "      <td>1</td>\n",
       "      <td>80</td>\n",
       "      <td>0</td>\n",
       "      <td>8</td>\n",
       "      <td>0</td>\n",
       "      <td>1</td>\n",
       "      <td>6</td>\n",
       "      <td>4</td>\n",
       "      <td>0</td>\n",
       "      <td>5</td>\n",
       "    </tr>\n",
       "    <tr>\n",
       "      <th>1</th>\n",
       "      <td>49</td>\n",
       "      <td>279</td>\n",
       "      <td>8</td>\n",
       "      <td>1</td>\n",
       "      <td>1</td>\n",
       "      <td>2</td>\n",
       "      <td>3</td>\n",
       "      <td>61</td>\n",
       "      <td>2</td>\n",
       "      <td>2</td>\n",
       "      <td>...</td>\n",
       "      <td>4</td>\n",
       "      <td>80</td>\n",
       "      <td>1</td>\n",
       "      <td>10</td>\n",
       "      <td>3</td>\n",
       "      <td>3</td>\n",
       "      <td>10</td>\n",
       "      <td>7</td>\n",
       "      <td>1</td>\n",
       "      <td>7</td>\n",
       "    </tr>\n",
       "    <tr>\n",
       "      <th>2</th>\n",
       "      <td>37</td>\n",
       "      <td>1373</td>\n",
       "      <td>2</td>\n",
       "      <td>2</td>\n",
       "      <td>1</td>\n",
       "      <td>4</td>\n",
       "      <td>4</td>\n",
       "      <td>92</td>\n",
       "      <td>2</td>\n",
       "      <td>1</td>\n",
       "      <td>...</td>\n",
       "      <td>2</td>\n",
       "      <td>80</td>\n",
       "      <td>0</td>\n",
       "      <td>7</td>\n",
       "      <td>3</td>\n",
       "      <td>3</td>\n",
       "      <td>0</td>\n",
       "      <td>0</td>\n",
       "      <td>0</td>\n",
       "      <td>0</td>\n",
       "    </tr>\n",
       "    <tr>\n",
       "      <th>3</th>\n",
       "      <td>33</td>\n",
       "      <td>1392</td>\n",
       "      <td>3</td>\n",
       "      <td>4</td>\n",
       "      <td>1</td>\n",
       "      <td>5</td>\n",
       "      <td>4</td>\n",
       "      <td>56</td>\n",
       "      <td>3</td>\n",
       "      <td>1</td>\n",
       "      <td>...</td>\n",
       "      <td>3</td>\n",
       "      <td>80</td>\n",
       "      <td>0</td>\n",
       "      <td>8</td>\n",
       "      <td>3</td>\n",
       "      <td>3</td>\n",
       "      <td>8</td>\n",
       "      <td>7</td>\n",
       "      <td>3</td>\n",
       "      <td>0</td>\n",
       "    </tr>\n",
       "    <tr>\n",
       "      <th>4</th>\n",
       "      <td>27</td>\n",
       "      <td>591</td>\n",
       "      <td>2</td>\n",
       "      <td>1</td>\n",
       "      <td>1</td>\n",
       "      <td>7</td>\n",
       "      <td>1</td>\n",
       "      <td>40</td>\n",
       "      <td>3</td>\n",
       "      <td>1</td>\n",
       "      <td>...</td>\n",
       "      <td>4</td>\n",
       "      <td>80</td>\n",
       "      <td>1</td>\n",
       "      <td>6</td>\n",
       "      <td>3</td>\n",
       "      <td>3</td>\n",
       "      <td>2</td>\n",
       "      <td>2</td>\n",
       "      <td>2</td>\n",
       "      <td>2</td>\n",
       "    </tr>\n",
       "    <tr>\n",
       "      <th>...</th>\n",
       "      <td>...</td>\n",
       "      <td>...</td>\n",
       "      <td>...</td>\n",
       "      <td>...</td>\n",
       "      <td>...</td>\n",
       "      <td>...</td>\n",
       "      <td>...</td>\n",
       "      <td>...</td>\n",
       "      <td>...</td>\n",
       "      <td>...</td>\n",
       "      <td>...</td>\n",
       "      <td>...</td>\n",
       "      <td>...</td>\n",
       "      <td>...</td>\n",
       "      <td>...</td>\n",
       "      <td>...</td>\n",
       "      <td>...</td>\n",
       "      <td>...</td>\n",
       "      <td>...</td>\n",
       "      <td>...</td>\n",
       "      <td>...</td>\n",
       "    </tr>\n",
       "    <tr>\n",
       "      <th>1465</th>\n",
       "      <td>36</td>\n",
       "      <td>884</td>\n",
       "      <td>23</td>\n",
       "      <td>2</td>\n",
       "      <td>1</td>\n",
       "      <td>2061</td>\n",
       "      <td>3</td>\n",
       "      <td>41</td>\n",
       "      <td>4</td>\n",
       "      <td>2</td>\n",
       "      <td>...</td>\n",
       "      <td>3</td>\n",
       "      <td>80</td>\n",
       "      <td>1</td>\n",
       "      <td>17</td>\n",
       "      <td>3</td>\n",
       "      <td>3</td>\n",
       "      <td>5</td>\n",
       "      <td>2</td>\n",
       "      <td>0</td>\n",
       "      <td>3</td>\n",
       "    </tr>\n",
       "    <tr>\n",
       "      <th>1466</th>\n",
       "      <td>39</td>\n",
       "      <td>613</td>\n",
       "      <td>6</td>\n",
       "      <td>1</td>\n",
       "      <td>1</td>\n",
       "      <td>2062</td>\n",
       "      <td>4</td>\n",
       "      <td>42</td>\n",
       "      <td>2</td>\n",
       "      <td>3</td>\n",
       "      <td>...</td>\n",
       "      <td>1</td>\n",
       "      <td>80</td>\n",
       "      <td>1</td>\n",
       "      <td>9</td>\n",
       "      <td>5</td>\n",
       "      <td>3</td>\n",
       "      <td>7</td>\n",
       "      <td>7</td>\n",
       "      <td>1</td>\n",
       "      <td>7</td>\n",
       "    </tr>\n",
       "    <tr>\n",
       "      <th>1467</th>\n",
       "      <td>27</td>\n",
       "      <td>155</td>\n",
       "      <td>4</td>\n",
       "      <td>3</td>\n",
       "      <td>1</td>\n",
       "      <td>2064</td>\n",
       "      <td>2</td>\n",
       "      <td>87</td>\n",
       "      <td>4</td>\n",
       "      <td>2</td>\n",
       "      <td>...</td>\n",
       "      <td>2</td>\n",
       "      <td>80</td>\n",
       "      <td>1</td>\n",
       "      <td>6</td>\n",
       "      <td>0</td>\n",
       "      <td>3</td>\n",
       "      <td>6</td>\n",
       "      <td>2</td>\n",
       "      <td>0</td>\n",
       "      <td>3</td>\n",
       "    </tr>\n",
       "    <tr>\n",
       "      <th>1468</th>\n",
       "      <td>49</td>\n",
       "      <td>1023</td>\n",
       "      <td>2</td>\n",
       "      <td>3</td>\n",
       "      <td>1</td>\n",
       "      <td>2065</td>\n",
       "      <td>4</td>\n",
       "      <td>63</td>\n",
       "      <td>2</td>\n",
       "      <td>2</td>\n",
       "      <td>...</td>\n",
       "      <td>4</td>\n",
       "      <td>80</td>\n",
       "      <td>0</td>\n",
       "      <td>17</td>\n",
       "      <td>3</td>\n",
       "      <td>2</td>\n",
       "      <td>9</td>\n",
       "      <td>6</td>\n",
       "      <td>0</td>\n",
       "      <td>8</td>\n",
       "    </tr>\n",
       "    <tr>\n",
       "      <th>1469</th>\n",
       "      <td>34</td>\n",
       "      <td>628</td>\n",
       "      <td>8</td>\n",
       "      <td>3</td>\n",
       "      <td>1</td>\n",
       "      <td>2068</td>\n",
       "      <td>2</td>\n",
       "      <td>82</td>\n",
       "      <td>4</td>\n",
       "      <td>2</td>\n",
       "      <td>...</td>\n",
       "      <td>1</td>\n",
       "      <td>80</td>\n",
       "      <td>0</td>\n",
       "      <td>6</td>\n",
       "      <td>3</td>\n",
       "      <td>4</td>\n",
       "      <td>4</td>\n",
       "      <td>3</td>\n",
       "      <td>1</td>\n",
       "      <td>2</td>\n",
       "    </tr>\n",
       "  </tbody>\n",
       "</table>\n",
       "<p>1470 rows × 26 columns</p>\n",
       "</div>"
      ],
      "text/plain": [
       "      Age  DailyRate  DistanceFromHome  Education  EmployeeCount  \\\n",
       "0      41       1102                 1          2              1   \n",
       "1      49        279                 8          1              1   \n",
       "2      37       1373                 2          2              1   \n",
       "3      33       1392                 3          4              1   \n",
       "4      27        591                 2          1              1   \n",
       "...   ...        ...               ...        ...            ...   \n",
       "1465   36        884                23          2              1   \n",
       "1466   39        613                 6          1              1   \n",
       "1467   27        155                 4          3              1   \n",
       "1468   49       1023                 2          3              1   \n",
       "1469   34        628                 8          3              1   \n",
       "\n",
       "      EmployeeNumber  EnvironmentSatisfaction  HourlyRate  JobInvolvement  \\\n",
       "0                  1                        2          94               3   \n",
       "1                  2                        3          61               2   \n",
       "2                  4                        4          92               2   \n",
       "3                  5                        4          56               3   \n",
       "4                  7                        1          40               3   \n",
       "...              ...                      ...         ...             ...   \n",
       "1465            2061                        3          41               4   \n",
       "1466            2062                        4          42               2   \n",
       "1467            2064                        2          87               4   \n",
       "1468            2065                        4          63               2   \n",
       "1469            2068                        2          82               4   \n",
       "\n",
       "      JobLevel  ...  RelationshipSatisfaction  StandardHours  \\\n",
       "0            2  ...                         1             80   \n",
       "1            2  ...                         4             80   \n",
       "2            1  ...                         2             80   \n",
       "3            1  ...                         3             80   \n",
       "4            1  ...                         4             80   \n",
       "...        ...  ...                       ...            ...   \n",
       "1465         2  ...                         3             80   \n",
       "1466         3  ...                         1             80   \n",
       "1467         2  ...                         2             80   \n",
       "1468         2  ...                         4             80   \n",
       "1469         2  ...                         1             80   \n",
       "\n",
       "      StockOptionLevel  TotalWorkingYears  TrainingTimesLastYear  \\\n",
       "0                    0                  8                      0   \n",
       "1                    1                 10                      3   \n",
       "2                    0                  7                      3   \n",
       "3                    0                  8                      3   \n",
       "4                    1                  6                      3   \n",
       "...                ...                ...                    ...   \n",
       "1465                 1                 17                      3   \n",
       "1466                 1                  9                      5   \n",
       "1467                 1                  6                      0   \n",
       "1468                 0                 17                      3   \n",
       "1469                 0                  6                      3   \n",
       "\n",
       "      WorkLifeBalance  YearsAtCompany  YearsInCurrentRole  \\\n",
       "0                   1               6                   4   \n",
       "1                   3              10                   7   \n",
       "2                   3               0                   0   \n",
       "3                   3               8                   7   \n",
       "4                   3               2                   2   \n",
       "...               ...             ...                 ...   \n",
       "1465                3               5                   2   \n",
       "1466                3               7                   7   \n",
       "1467                3               6                   2   \n",
       "1468                2               9                   6   \n",
       "1469                4               4                   3   \n",
       "\n",
       "      YearsSinceLastPromotion  YearsWithCurrManager  \n",
       "0                           0                     5  \n",
       "1                           1                     7  \n",
       "2                           0                     0  \n",
       "3                           3                     0  \n",
       "4                           2                     2  \n",
       "...                       ...                   ...  \n",
       "1465                        0                     3  \n",
       "1466                        1                     7  \n",
       "1467                        0                     3  \n",
       "1468                        0                     8  \n",
       "1469                        1                     2  \n",
       "\n",
       "[1470 rows x 26 columns]"
      ]
     },
     "execution_count": 13,
     "metadata": {},
     "output_type": "execute_result"
    }
   ],
   "source": [
    "num = X.select_dtypes('number')\n",
    "num"
   ]
  },
  {
   "cell_type": "code",
   "execution_count": 14,
   "id": "4a205863",
   "metadata": {
    "id": "4a205863"
   },
   "outputs": [],
   "source": [
    "ohe = pd.get_dummies(obj)"
   ]
  },
  {
   "cell_type": "code",
   "execution_count": 15,
   "id": "TNMgU_ySd_t4",
   "metadata": {
    "colab": {
     "base_uri": "https://localhost:8080/",
     "height": 317
    },
    "id": "TNMgU_ySd_t4",
    "outputId": "3eb5de8e-f93a-435e-e86a-a7860cf4d869"
   },
   "outputs": [
    {
     "data": {
      "text/html": [
       "<div>\n",
       "<style scoped>\n",
       "    .dataframe tbody tr th:only-of-type {\n",
       "        vertical-align: middle;\n",
       "    }\n",
       "\n",
       "    .dataframe tbody tr th {\n",
       "        vertical-align: top;\n",
       "    }\n",
       "\n",
       "    .dataframe thead th {\n",
       "        text-align: right;\n",
       "    }\n",
       "</style>\n",
       "<table border=\"1\" class=\"dataframe\">\n",
       "  <thead>\n",
       "    <tr style=\"text-align: right;\">\n",
       "      <th></th>\n",
       "      <th>BusinessTravel_Non-Travel</th>\n",
       "      <th>BusinessTravel_Travel_Frequently</th>\n",
       "      <th>BusinessTravel_Travel_Rarely</th>\n",
       "      <th>Department_Human Resources</th>\n",
       "      <th>Department_Research &amp; Development</th>\n",
       "      <th>Department_Sales</th>\n",
       "      <th>EducationField_Human Resources</th>\n",
       "      <th>EducationField_Life Sciences</th>\n",
       "      <th>EducationField_Marketing</th>\n",
       "      <th>EducationField_Medical</th>\n",
       "      <th>...</th>\n",
       "      <th>JobRole_Research Director</th>\n",
       "      <th>JobRole_Research Scientist</th>\n",
       "      <th>JobRole_Sales Executive</th>\n",
       "      <th>JobRole_Sales Representative</th>\n",
       "      <th>MaritalStatus_Divorced</th>\n",
       "      <th>MaritalStatus_Married</th>\n",
       "      <th>MaritalStatus_Single</th>\n",
       "      <th>Over18_Y</th>\n",
       "      <th>OverTime_No</th>\n",
       "      <th>OverTime_Yes</th>\n",
       "    </tr>\n",
       "  </thead>\n",
       "  <tbody>\n",
       "    <tr>\n",
       "      <th>0</th>\n",
       "      <td>0</td>\n",
       "      <td>0</td>\n",
       "      <td>1</td>\n",
       "      <td>0</td>\n",
       "      <td>0</td>\n",
       "      <td>1</td>\n",
       "      <td>0</td>\n",
       "      <td>1</td>\n",
       "      <td>0</td>\n",
       "      <td>0</td>\n",
       "      <td>...</td>\n",
       "      <td>0</td>\n",
       "      <td>0</td>\n",
       "      <td>1</td>\n",
       "      <td>0</td>\n",
       "      <td>0</td>\n",
       "      <td>0</td>\n",
       "      <td>1</td>\n",
       "      <td>1</td>\n",
       "      <td>0</td>\n",
       "      <td>1</td>\n",
       "    </tr>\n",
       "    <tr>\n",
       "      <th>1</th>\n",
       "      <td>0</td>\n",
       "      <td>1</td>\n",
       "      <td>0</td>\n",
       "      <td>0</td>\n",
       "      <td>1</td>\n",
       "      <td>0</td>\n",
       "      <td>0</td>\n",
       "      <td>1</td>\n",
       "      <td>0</td>\n",
       "      <td>0</td>\n",
       "      <td>...</td>\n",
       "      <td>0</td>\n",
       "      <td>1</td>\n",
       "      <td>0</td>\n",
       "      <td>0</td>\n",
       "      <td>0</td>\n",
       "      <td>1</td>\n",
       "      <td>0</td>\n",
       "      <td>1</td>\n",
       "      <td>1</td>\n",
       "      <td>0</td>\n",
       "    </tr>\n",
       "    <tr>\n",
       "      <th>2</th>\n",
       "      <td>0</td>\n",
       "      <td>0</td>\n",
       "      <td>1</td>\n",
       "      <td>0</td>\n",
       "      <td>1</td>\n",
       "      <td>0</td>\n",
       "      <td>0</td>\n",
       "      <td>0</td>\n",
       "      <td>0</td>\n",
       "      <td>0</td>\n",
       "      <td>...</td>\n",
       "      <td>0</td>\n",
       "      <td>0</td>\n",
       "      <td>0</td>\n",
       "      <td>0</td>\n",
       "      <td>0</td>\n",
       "      <td>0</td>\n",
       "      <td>1</td>\n",
       "      <td>1</td>\n",
       "      <td>0</td>\n",
       "      <td>1</td>\n",
       "    </tr>\n",
       "    <tr>\n",
       "      <th>3</th>\n",
       "      <td>0</td>\n",
       "      <td>1</td>\n",
       "      <td>0</td>\n",
       "      <td>0</td>\n",
       "      <td>1</td>\n",
       "      <td>0</td>\n",
       "      <td>0</td>\n",
       "      <td>1</td>\n",
       "      <td>0</td>\n",
       "      <td>0</td>\n",
       "      <td>...</td>\n",
       "      <td>0</td>\n",
       "      <td>1</td>\n",
       "      <td>0</td>\n",
       "      <td>0</td>\n",
       "      <td>0</td>\n",
       "      <td>1</td>\n",
       "      <td>0</td>\n",
       "      <td>1</td>\n",
       "      <td>0</td>\n",
       "      <td>1</td>\n",
       "    </tr>\n",
       "    <tr>\n",
       "      <th>4</th>\n",
       "      <td>0</td>\n",
       "      <td>0</td>\n",
       "      <td>1</td>\n",
       "      <td>0</td>\n",
       "      <td>1</td>\n",
       "      <td>0</td>\n",
       "      <td>0</td>\n",
       "      <td>0</td>\n",
       "      <td>0</td>\n",
       "      <td>1</td>\n",
       "      <td>...</td>\n",
       "      <td>0</td>\n",
       "      <td>0</td>\n",
       "      <td>0</td>\n",
       "      <td>0</td>\n",
       "      <td>0</td>\n",
       "      <td>1</td>\n",
       "      <td>0</td>\n",
       "      <td>1</td>\n",
       "      <td>1</td>\n",
       "      <td>0</td>\n",
       "    </tr>\n",
       "  </tbody>\n",
       "</table>\n",
       "<p>5 rows × 29 columns</p>\n",
       "</div>"
      ],
      "text/plain": [
       "   BusinessTravel_Non-Travel  BusinessTravel_Travel_Frequently  \\\n",
       "0                          0                                 0   \n",
       "1                          0                                 1   \n",
       "2                          0                                 0   \n",
       "3                          0                                 1   \n",
       "4                          0                                 0   \n",
       "\n",
       "   BusinessTravel_Travel_Rarely  Department_Human Resources  \\\n",
       "0                             1                           0   \n",
       "1                             0                           0   \n",
       "2                             1                           0   \n",
       "3                             0                           0   \n",
       "4                             1                           0   \n",
       "\n",
       "   Department_Research & Development  Department_Sales  \\\n",
       "0                                  0                 1   \n",
       "1                                  1                 0   \n",
       "2                                  1                 0   \n",
       "3                                  1                 0   \n",
       "4                                  1                 0   \n",
       "\n",
       "   EducationField_Human Resources  EducationField_Life Sciences  \\\n",
       "0                               0                             1   \n",
       "1                               0                             1   \n",
       "2                               0                             0   \n",
       "3                               0                             1   \n",
       "4                               0                             0   \n",
       "\n",
       "   EducationField_Marketing  EducationField_Medical  ...  \\\n",
       "0                         0                       0  ...   \n",
       "1                         0                       0  ...   \n",
       "2                         0                       0  ...   \n",
       "3                         0                       0  ...   \n",
       "4                         0                       1  ...   \n",
       "\n",
       "   JobRole_Research Director  JobRole_Research Scientist  \\\n",
       "0                          0                           0   \n",
       "1                          0                           1   \n",
       "2                          0                           0   \n",
       "3                          0                           1   \n",
       "4                          0                           0   \n",
       "\n",
       "   JobRole_Sales Executive  JobRole_Sales Representative  \\\n",
       "0                        1                             0   \n",
       "1                        0                             0   \n",
       "2                        0                             0   \n",
       "3                        0                             0   \n",
       "4                        0                             0   \n",
       "\n",
       "   MaritalStatus_Divorced  MaritalStatus_Married  MaritalStatus_Single  \\\n",
       "0                       0                      0                     1   \n",
       "1                       0                      1                     0   \n",
       "2                       0                      0                     1   \n",
       "3                       0                      1                     0   \n",
       "4                       0                      1                     0   \n",
       "\n",
       "   Over18_Y  OverTime_No  OverTime_Yes  \n",
       "0         1            0             1  \n",
       "1         1            1             0  \n",
       "2         1            0             1  \n",
       "3         1            0             1  \n",
       "4         1            1             0  \n",
       "\n",
       "[5 rows x 29 columns]"
      ]
     },
     "execution_count": 15,
     "metadata": {},
     "output_type": "execute_result"
    }
   ],
   "source": [
    "ohe.head()"
   ]
  },
  {
   "cell_type": "code",
   "execution_count": 16,
   "id": "5edb600b",
   "metadata": {
    "id": "5edb600b"
   },
   "outputs": [],
   "source": [
    "X = pd.concat([num,ohe], axis=1)"
   ]
  },
  {
   "cell_type": "markdown",
   "id": "45497361",
   "metadata": {
    "id": "45497361"
   },
   "source": [
    "#### Step4 [Shape of X and y]"
   ]
  },
  {
   "cell_type": "code",
   "execution_count": 17,
   "id": "901882c6",
   "metadata": {
    "colab": {
     "base_uri": "https://localhost:8080/"
    },
    "id": "901882c6",
    "outputId": "9ed4b254-6f77-4c1f-b099-a2805c997c7f"
   },
   "outputs": [
    {
     "data": {
      "text/plain": [
       "(1470, 55)"
      ]
     },
     "execution_count": 17,
     "metadata": {},
     "output_type": "execute_result"
    }
   ],
   "source": [
    "X.shape"
   ]
  },
  {
   "cell_type": "code",
   "execution_count": 18,
   "id": "abae05c0",
   "metadata": {
    "colab": {
     "base_uri": "https://localhost:8080/"
    },
    "id": "abae05c0",
    "outputId": "fb666934-4462-49a3-f065-2836d6f6a727"
   },
   "outputs": [
    {
     "data": {
      "text/plain": [
       "(1470,)"
      ]
     },
     "execution_count": 18,
     "metadata": {},
     "output_type": "execute_result"
    }
   ],
   "source": [
    "y.shape"
   ]
  },
  {
   "cell_type": "markdown",
   "id": "8de6d770",
   "metadata": {
    "id": "8de6d770"
   },
   "source": [
    "#### Step5 [Model Development]"
   ]
  },
  {
   "cell_type": "code",
   "execution_count": 19,
   "id": "0cbe20b6",
   "metadata": {
    "id": "0cbe20b6"
   },
   "outputs": [],
   "source": [
    "from sklearn.model_selection import train_test_split"
   ]
  },
  {
   "cell_type": "code",
   "execution_count": 20,
   "id": "7f1d586d",
   "metadata": {
    "id": "7f1d586d"
   },
   "outputs": [],
   "source": [
    "X_train, X_test, y_train, y_test =  train_test_split(X, y, test_size= 0.20, random_state=42)"
   ]
  },
  {
   "cell_type": "code",
   "execution_count": 21,
   "id": "0a38338e",
   "metadata": {
    "id": "0a38338e"
   },
   "outputs": [],
   "source": [
    "from sklearn.ensemble import RandomForestClassifier"
   ]
  },
  {
   "cell_type": "code",
   "execution_count": 22,
   "id": "0b1e5475",
   "metadata": {
    "colab": {
     "base_uri": "https://localhost:8080/",
     "height": 75
    },
    "id": "0b1e5475",
    "outputId": "f42ce0cd-57b2-49ac-887f-a373a16aadbd"
   },
   "outputs": [
    {
     "data": {
      "text/plain": [
       "RandomForestClassifier()"
      ]
     },
     "execution_count": 22,
     "metadata": {},
     "output_type": "execute_result"
    }
   ],
   "source": [
    "rf = RandomForestClassifier(criterion='gini')\n",
    "rf.fit(X_train, y_train)"
   ]
  },
  {
   "cell_type": "code",
   "execution_count": 23,
   "id": "ab7a2f4d",
   "metadata": {
    "id": "ab7a2f4d"
   },
   "outputs": [],
   "source": [
    "y_pred = rf.predict(X_test)"
   ]
  },
  {
   "cell_type": "markdown",
   "id": "8c9146cb",
   "metadata": {
    "id": "8c9146cb"
   },
   "source": [
    "#### Step6 [Testing]"
   ]
  },
  {
   "cell_type": "code",
   "execution_count": 24,
   "id": "14a5fa87",
   "metadata": {
    "colab": {
     "base_uri": "https://localhost:8080/"
    },
    "id": "14a5fa87",
    "outputId": "d984d3a2-4af9-4143-df77-19cf8f27a616"
   },
   "outputs": [
    {
     "data": {
      "text/plain": [
       "0.8809523809523809"
      ]
     },
     "execution_count": 24,
     "metadata": {},
     "output_type": "execute_result"
    }
   ],
   "source": [
    "from sklearn.metrics import accuracy_score\n",
    "accuracy_score(y_test,y_pred)"
   ]
  },
  {
   "cell_type": "code",
   "execution_count": 25,
   "id": "bb6357b3",
   "metadata": {
    "colab": {
     "base_uri": "https://localhost:8080/"
    },
    "id": "bb6357b3",
    "outputId": "8a4bff5c-6bfb-49d5-ad02-17fc9f457742"
   },
   "outputs": [
    {
     "name": "stdout",
     "output_type": "stream",
     "text": [
      "              precision    recall  f1-score   support\n",
      "\n",
      "           0       0.88      1.00      0.94       255\n",
      "           1       1.00      0.10      0.19        39\n",
      "\n",
      "    accuracy                           0.88       294\n",
      "   macro avg       0.94      0.55      0.56       294\n",
      "weighted avg       0.90      0.88      0.84       294\n",
      "\n"
     ]
    }
   ],
   "source": [
    "from sklearn.metrics import classification_report\n",
    "print(classification_report(y_test,y_pred))"
   ]
  },
  {
   "cell_type": "markdown",
   "id": "98076e6c",
   "metadata": {
    "id": "98076e6c"
   },
   "source": [
    "#### Step7 [Feature importance value]"
   ]
  },
  {
   "cell_type": "code",
   "execution_count": 26,
   "id": "6b3bf1ce",
   "metadata": {
    "colab": {
     "base_uri": "https://localhost:8080/"
    },
    "id": "6b3bf1ce",
    "outputId": "57e4227c-0744-4226-b829-0df6d714e756"
   },
   "outputs": [
    {
     "data": {
      "text/plain": [
       "array([0.04751345, 0.04644469, 0.03893332, 0.01853363, 0.        ,\n",
       "       0.04248502, 0.0228968 , 0.04057304, 0.01933047, 0.02393332,\n",
       "       0.0232309 , 0.07567463, 0.04618429, 0.03073556, 0.02691679,\n",
       "       0.00436413, 0.0173774 , 0.        , 0.02836908, 0.0494874 ,\n",
       "       0.0232581 , 0.01747611, 0.04000706, 0.02728201, 0.02189891,\n",
       "       0.02728242, 0.00314215, 0.01310804, 0.00741855, 0.00234183,\n",
       "       0.00823413, 0.00724807, 0.00214434, 0.00655025, 0.00591894,\n",
       "       0.00701436, 0.00251696, 0.00715514, 0.00761791, 0.00696892,\n",
       "       0.00207999, 0.00259821, 0.00767675, 0.00103661, 0.0024347 ,\n",
       "       0.00119004, 0.00765044, 0.00754547, 0.01042963, 0.00646656,\n",
       "       0.00813248, 0.01720225, 0.        , 0.0409262 , 0.03706254])"
      ]
     },
     "execution_count": 26,
     "metadata": {},
     "output_type": "execute_result"
    }
   ],
   "source": [
    "rf.feature_importances_"
   ]
  },
  {
   "cell_type": "code",
   "execution_count": null,
   "id": "74178295",
   "metadata": {
    "id": "74178295"
   },
   "outputs": [],
   "source": []
  },
  {
   "cell_type": "code",
   "execution_count": 27,
   "id": "1136cffb",
   "metadata": {
    "colab": {
     "base_uri": "https://localhost:8080/"
    },
    "id": "1136cffb",
    "outputId": "641add76-640d-41ef-aa81-adf5ef5fdad8",
    "scrolled": false
   },
   "outputs": [
    {
     "name": "stdout",
     "output_type": "stream",
     "text": [
      "---  ---------\n",
      "Age  0.0475134\n",
      "---  ---------\n",
      "---------  ---------\n",
      "DailyRate  0.0464447\n",
      "---------  ---------\n",
      "----------------  ---------\n",
      "DistanceFromHome  0.0389333\n",
      "----------------  ---------\n",
      "---------  ---------\n",
      "Education  0.0185336\n",
      "---------  ---------\n",
      "-------------  -\n",
      "EmployeeCount  0\n",
      "-------------  -\n",
      "--------------  --------\n",
      "EmployeeNumber  0.042485\n",
      "--------------  --------\n",
      "-----------------------  ---------\n",
      "EnvironmentSatisfaction  0.0228968\n",
      "-----------------------  ---------\n",
      "----------  --------\n",
      "HourlyRate  0.040573\n",
      "----------  --------\n",
      "--------------  ---------\n",
      "JobInvolvement  0.0193305\n",
      "--------------  ---------\n",
      "--------  ---------\n",
      "JobLevel  0.0239333\n",
      "--------  ---------\n",
      "---------------  ---------\n",
      "JobSatisfaction  0.0232309\n",
      "---------------  ---------\n",
      "-------------  ---------\n",
      "MonthlyIncome  0.0756746\n",
      "-------------  ---------\n",
      "-----------  ---------\n",
      "MonthlyRate  0.0461843\n",
      "-----------  ---------\n",
      "------------------  ---------\n",
      "NumCompaniesWorked  0.0307356\n",
      "------------------  ---------\n",
      "-----------------  ---------\n",
      "PercentSalaryHike  0.0269168\n",
      "-----------------  ---------\n",
      "-----------------  ----------\n",
      "PerformanceRating  0.00436413\n",
      "-----------------  ----------\n",
      "------------------------  ---------\n",
      "RelationshipSatisfaction  0.0173774\n",
      "------------------------  ---------\n",
      "-------------  -\n",
      "StandardHours  0\n",
      "-------------  -\n",
      "----------------  ---------\n",
      "StockOptionLevel  0.0283691\n",
      "----------------  ---------\n",
      "-----------------  ---------\n",
      "TotalWorkingYears  0.0494874\n",
      "-----------------  ---------\n",
      "---------------------  ---------\n",
      "TrainingTimesLastYear  0.0232581\n",
      "---------------------  ---------\n",
      "---------------  ---------\n",
      "WorkLifeBalance  0.0174761\n",
      "---------------  ---------\n",
      "--------------  ---------\n",
      "YearsAtCompany  0.0400071\n",
      "--------------  ---------\n",
      "------------------  --------\n",
      "YearsInCurrentRole  0.027282\n",
      "------------------  --------\n",
      "-----------------------  ---------\n",
      "YearsSinceLastPromotion  0.0218989\n",
      "-----------------------  ---------\n",
      "--------------------  ---------\n",
      "YearsWithCurrManager  0.0272824\n",
      "--------------------  ---------\n",
      "-------------------------  ----------\n",
      "BusinessTravel_Non-Travel  0.00314215\n",
      "-------------------------  ----------\n",
      "--------------------------------  --------\n",
      "BusinessTravel_Travel_Frequently  0.013108\n",
      "--------------------------------  --------\n",
      "----------------------------  ----------\n",
      "BusinessTravel_Travel_Rarely  0.00741855\n",
      "----------------------------  ----------\n",
      "--------------------------  ----------\n",
      "Department_Human Resources  0.00234183\n",
      "--------------------------  ----------\n",
      "---------------------------------  ----------\n",
      "Department_Research & Development  0.00823413\n",
      "---------------------------------  ----------\n",
      "----------------  ----------\n",
      "Department_Sales  0.00724807\n",
      "----------------  ----------\n",
      "------------------------------  ----------\n",
      "EducationField_Human Resources  0.00214434\n",
      "------------------------------  ----------\n",
      "----------------------------  ----------\n",
      "EducationField_Life Sciences  0.00655025\n",
      "----------------------------  ----------\n",
      "------------------------  ----------\n",
      "EducationField_Marketing  0.00591894\n",
      "------------------------  ----------\n",
      "----------------------  ----------\n",
      "EducationField_Medical  0.00701436\n",
      "----------------------  ----------\n",
      "--------------------  ----------\n",
      "EducationField_Other  0.00251696\n",
      "--------------------  ----------\n",
      "-------------------------------  ----------\n",
      "EducationField_Technical Degree  0.00715514\n",
      "-------------------------------  ----------\n",
      "-------------  ----------\n",
      "Gender_Female  0.00761791\n",
      "-------------  ----------\n",
      "-----------  ----------\n",
      "Gender_Male  0.00696892\n",
      "-----------  ----------\n",
      "---------------------------------  ----------\n",
      "JobRole_Healthcare Representative  0.00207999\n",
      "---------------------------------  ----------\n",
      "-----------------------  ----------\n",
      "JobRole_Human Resources  0.00259821\n",
      "-----------------------  ----------\n",
      "-----------------------------  ----------\n",
      "JobRole_Laboratory Technician  0.00767675\n",
      "-----------------------------  ----------\n",
      "---------------  ----------\n",
      "JobRole_Manager  0.00103661\n",
      "---------------  ----------\n",
      "------------------------------  ---------\n",
      "JobRole_Manufacturing Director  0.0024347\n",
      "------------------------------  ---------\n",
      "-------------------------  ----------\n",
      "JobRole_Research Director  0.00119004\n",
      "-------------------------  ----------\n",
      "--------------------------  ----------\n",
      "JobRole_Research Scientist  0.00765044\n",
      "--------------------------  ----------\n",
      "-----------------------  ----------\n",
      "JobRole_Sales Executive  0.00754547\n",
      "-----------------------  ----------\n",
      "----------------------------  ---------\n",
      "JobRole_Sales Representative  0.0104296\n",
      "----------------------------  ---------\n",
      "----------------------  ----------\n",
      "MaritalStatus_Divorced  0.00646656\n",
      "----------------------  ----------\n",
      "---------------------  ----------\n",
      "MaritalStatus_Married  0.00813248\n",
      "---------------------  ----------\n",
      "--------------------  ---------\n",
      "MaritalStatus_Single  0.0172022\n",
      "--------------------  ---------\n",
      "--------  -\n",
      "Over18_Y  0\n",
      "--------  -\n",
      "-----------  ---------\n",
      "OverTime_No  0.0409262\n",
      "-----------  ---------\n",
      "------------  ---------\n",
      "OverTime_Yes  0.0370625\n",
      "------------  ---------\n"
     ]
    }
   ],
   "source": [
    "from tabulate import tabulate\n",
    "for i in range(len(X.columns)):\n",
    "    #print(X.columns[i],'--->',rf2.feature_importances_[i])\n",
    "    print(tabulate([[X.columns[i],rf.feature_importances_[i]]]))   "
   ]
  },
  {
   "cell_type": "code",
   "execution_count": 28,
   "id": "bqYXaiQAbvDI",
   "metadata": {
    "colab": {
     "base_uri": "https://localhost:8080/"
    },
    "id": "bqYXaiQAbvDI",
    "outputId": "5a36e4a8-ce5c-4649-f96e-1cd6b28026f3"
   },
   "outputs": [
    {
     "data": {
      "text/plain": [
       "Over18_Y                             0.000000\n",
       "EmployeeCount                        0.000000\n",
       "StandardHours                        0.000000\n",
       "JobRole_Manager                      0.001037\n",
       "JobRole_Research Director            0.001190\n",
       "JobRole_Healthcare Representative    0.002080\n",
       "EducationField_Human Resources       0.002144\n",
       "Department_Human Resources           0.002342\n",
       "JobRole_Manufacturing Director       0.002435\n",
       "EducationField_Other                 0.002517\n",
       "JobRole_Human Resources              0.002598\n",
       "BusinessTravel_Non-Travel            0.003142\n",
       "PerformanceRating                    0.004364\n",
       "EducationField_Marketing             0.005919\n",
       "MaritalStatus_Divorced               0.006467\n",
       "EducationField_Life Sciences         0.006550\n",
       "Gender_Male                          0.006969\n",
       "EducationField_Medical               0.007014\n",
       "EducationField_Technical Degree      0.007155\n",
       "Department_Sales                     0.007248\n",
       "BusinessTravel_Travel_Rarely         0.007419\n",
       "JobRole_Sales Executive              0.007545\n",
       "Gender_Female                        0.007618\n",
       "JobRole_Research Scientist           0.007650\n",
       "JobRole_Laboratory Technician        0.007677\n",
       "MaritalStatus_Married                0.008132\n",
       "Department_Research & Development    0.008234\n",
       "JobRole_Sales Representative         0.010430\n",
       "BusinessTravel_Travel_Frequently     0.013108\n",
       "MaritalStatus_Single                 0.017202\n",
       "RelationshipSatisfaction             0.017377\n",
       "WorkLifeBalance                      0.017476\n",
       "Education                            0.018534\n",
       "JobInvolvement                       0.019330\n",
       "YearsSinceLastPromotion              0.021899\n",
       "EnvironmentSatisfaction              0.022897\n",
       "JobSatisfaction                      0.023231\n",
       "TrainingTimesLastYear                0.023258\n",
       "JobLevel                             0.023933\n",
       "PercentSalaryHike                    0.026917\n",
       "YearsInCurrentRole                   0.027282\n",
       "YearsWithCurrManager                 0.027282\n",
       "StockOptionLevel                     0.028369\n",
       "NumCompaniesWorked                   0.030736\n",
       "OverTime_Yes                         0.037063\n",
       "DistanceFromHome                     0.038933\n",
       "YearsAtCompany                       0.040007\n",
       "HourlyRate                           0.040573\n",
       "OverTime_No                          0.040926\n",
       "EmployeeNumber                       0.042485\n",
       "MonthlyRate                          0.046184\n",
       "DailyRate                            0.046445\n",
       "Age                                  0.047513\n",
       "TotalWorkingYears                    0.049487\n",
       "MonthlyIncome                        0.075675\n",
       "dtype: float64"
      ]
     },
     "execution_count": 28,
     "metadata": {},
     "output_type": "execute_result"
    }
   ],
   "source": [
    "pd.Series(rf.feature_importances_, index=X_train.columns).sort_values(ascending=True)"
   ]
  },
  {
   "cell_type": "code",
   "execution_count": 29,
   "id": "isnJBQC2cV4Y",
   "metadata": {
    "colab": {
     "base_uri": "https://localhost:8080/",
     "height": 284
    },
    "id": "isnJBQC2cV4Y",
    "outputId": "53f718d6-0afe-4413-9fdd-1c0b889e8de6"
   },
   "outputs": [],
   "source": [
    "import matplotlib.pyplot as plt\n",
    "#plt.bar(X.columns,rf.feature_importances_, color ='maroon')"
   ]
  },
  {
   "cell_type": "code",
   "execution_count": 30,
   "id": "ba1f0cf7",
   "metadata": {},
   "outputs": [],
   "source": [
    "import seaborn as sns"
   ]
  },
  {
   "cell_type": "code",
   "execution_count": 31,
   "id": "c0b46924",
   "metadata": {},
   "outputs": [
    {
     "data": {
      "text/plain": [
       "Text(0, 0.5, 'Feature Important score')"
      ]
     },
     "execution_count": 31,
     "metadata": {},
     "output_type": "execute_result"
    },
    {
     "data": {
      "image/png": "[encoded data removed]",
      "text/plain": [
       "<Figure size 1440x720 with 1 Axes>"
      ]
     },
     "metadata": {
      "needs_background": "light"
     },
     "output_type": "display_data"
    }
   ],
   "source": [
    "plt.figure(figsize=(20,10))\n",
    "sns.barplot(x=X.columns, y=rf.feature_importances_)\n",
    "plt.xticks(rotation=90)\n",
    "plt.xlabel('Feature Column Names')\n",
    "plt.ylabel('Feature Important score')"
   ]
  },
  {
   "cell_type": "markdown",
   "id": "3e65ae48",
   "metadata": {
    "id": "3e65ae48"
   },
   "source": [
    "#### Step8 [Visuallize your RF Decision Tree using graphviz]"
   ]
  },
  {
   "cell_type": "code",
   "execution_count": 32,
   "id": "Qu4aRJ4pcmre",
   "metadata": {
    "id": "Qu4aRJ4pcmre"
   },
   "outputs": [],
   "source": [
    "estimator = rf.estimators_[5]"
   ]
  },
  {
   "cell_type": "code",
   "execution_count": 33,
   "id": "9uspT_pHdKrQ",
   "metadata": {
    "id": "9uspT_pHdKrQ"
   },
   "outputs": [],
   "source": [
    "from sklearn import tree\n",
    "from sklearn.tree import export_graphviz"
   ]
  },
  {
   "cell_type": "code",
   "execution_count": 34,
   "id": "88189a43",
   "metadata": {},
   "outputs": [],
   "source": [
    "with open(\"RFDT.dot\",'w') as f:\n",
    "    f = tree.export_graphviz(estimator, out_file = f, max_depth = 4, impurity=False, feature_names = X.columns.values,\n",
    "        class_names=['Yes', 'No'], filled=True)"
   ]
  },
  {
   "cell_type": "code",
   "execution_count": 35,
   "id": "3cd82c2e",
   "metadata": {},
   "outputs": [
    {
     "name": "stdout",
     "output_type": "stream",
     "text": [
      "digraph Tree {\n",
      "node [shape=box, style=\"filled\", color=\"black\", fontname=\"helvetica\"] ;\n",
      "edge [fontname=\"helvetica\"] ;\n",
      "0 [label=\"JobLevel <= 1.5\\nsamples = 758\\nvalue = [981, 195]\\nclass = Yes\", fillcolor=\"#ea9a60\"] ;\n",
      "1 [label=\"OverTime_Yes <= 0.5\\nsamples = 298\\nvalue = [321, 138]\\nclass = Yes\", fillcolor=\"#f0b78e\"] ;\n",
      "0 -> 1 [labeldistance=2.5, labelangle=45, headlabel=\"True\"] ;\n",
      "2 [label=\"YearsSinceLastPromotion <= 1.5\\nsamples = 204\\nvalue = [255, 48]\\nclass = Yes\", fillcolor=\"#ea995e\"] ;\n",
      "1 -> 2 ;\n",
      "3 [label=\"MaritalStatus_Single <= 0.5\\nsamples = 154\\nvalue = [178, 43]\\nclass = Yes\", fillcolor=\"#eb9f69\"] ;\n",
      "2 -> 3 ;\n",
      "4 [label=\"MonthlyRate <= 18201.5\\nsamples = 97\\nvalue = [128, 12]\\nclass = Yes\", fillcolor=\"#e78d4c\"] ;\n",
      "3 -> 4 ;\n",
      "5 [label=\"(...)\", fillcolor=\"#C0C0C0\"] ;\n",
      "4 -> 5 ;\n",
      "22 [label=\"(...)\", fillcolor=\"#C0C0C0\"] ;\n",
      "4 -> 22 ;\n",
      "35 [label=\"JobRole_Research Scientist <= 0.5\\nsamples = 57\\nvalue = [50, 31]\\nclass = Yes\", fillcolor=\"#f5cfb4\"] ;\n",
      "3 -> 35 ;\n",
      "36 [label=\"(...)\", fillcolor=\"#C0C0C0\"] ;\n",
      "35 -> 36 ;\n",
      "63 [label=\"(...)\", fillcolor=\"#C0C0C0\"] ;\n",
      "35 -> 63 ;\n",
      "72 [label=\"WorkLifeBalance <= 1.5\\nsamples = 50\\nvalue = [77, 5]\\nclass = Yes\", fillcolor=\"#e78946\"] ;\n",
      "2 -> 72 ;\n",
      "73 [label=\"DailyRate <= 626.0\\nsamples = 4\\nvalue = [2, 2]\\nclass = Yes\", fillcolor=\"#ffffff\"] ;\n",
      "72 -> 73 ;\n",
      "74 [label=\"(...)\", fillcolor=\"#C0C0C0\"] ;\n",
      "73 -> 74 ;\n",
      "75 [label=\"(...)\", fillcolor=\"#C0C0C0\"] ;\n",
      "73 -> 75 ;\n",
      "76 [label=\"EducationField_Marketing <= 0.5\\nsamples = 46\\nvalue = [75, 3]\\nclass = Yes\", fillcolor=\"#e68641\"] ;\n",
      "72 -> 76 ;\n",
      "77 [label=\"(...)\", fillcolor=\"#C0C0C0\"] ;\n",
      "76 -> 77 ;\n",
      "86 [label=\"(...)\", fillcolor=\"#C0C0C0\"] ;\n",
      "76 -> 86 ;\n",
      "89 [label=\"YearsInCurrentRole <= 0.5\\nsamples = 94\\nvalue = [66, 90]\\nclass = No\", fillcolor=\"#cae5f8\"] ;\n",
      "1 -> 89 ;\n",
      "90 [label=\"HourlyRate <= 80.0\\nsamples = 29\\nvalue = [9, 45]\\nclass = No\", fillcolor=\"#61b1ea\"] ;\n",
      "89 -> 90 ;\n",
      "91 [label=\"JobSatisfaction <= 3.5\\nsamples = 22\\nvalue = [4, 42]\\nclass = No\", fillcolor=\"#4ca6e7\"] ;\n",
      "90 -> 91 ;\n",
      "92 [label=\"(...)\", fillcolor=\"#C0C0C0\"] ;\n",
      "91 -> 92 ;\n",
      "97 [label=\"(...)\", fillcolor=\"#C0C0C0\"] ;\n",
      "91 -> 97 ;\n",
      "104 [label=\"DailyRate <= 694.0\\nsamples = 7\\nvalue = [5, 3]\\nclass = Yes\", fillcolor=\"#f5cdb0\"] ;\n",
      "90 -> 104 ;\n",
      "105 [label=\"(...)\", fillcolor=\"#C0C0C0\"] ;\n",
      "104 -> 105 ;\n",
      "106 [label=\"(...)\", fillcolor=\"#C0C0C0\"] ;\n",
      "104 -> 106 ;\n",
      "111 [label=\"NumCompaniesWorked <= 0.5\\nsamples = 65\\nvalue = [57, 45]\\nclass = Yes\", fillcolor=\"#fae4d5\"] ;\n",
      "89 -> 111 ;\n",
      "112 [label=\"YearsAtCompany <= 6.5\\nsamples = 11\\nvalue = [16, 1]\\nclass = Yes\", fillcolor=\"#e78945\"] ;\n",
      "111 -> 112 ;\n",
      "113 [label=\"(...)\", fillcolor=\"#C0C0C0\"] ;\n",
      "112 -> 113 ;\n",
      "114 [label=\"(...)\", fillcolor=\"#C0C0C0\"] ;\n",
      "112 -> 114 ;\n",
      "117 [label=\"Age <= 46.5\\nsamples = 54\\nvalue = [41, 44]\\nclass = No\", fillcolor=\"#f2f8fd\"] ;\n",
      "111 -> 117 ;\n",
      "118 [label=\"(...)\", fillcolor=\"#C0C0C0\"] ;\n",
      "117 -> 118 ;\n",
      "157 [label=\"(...)\", fillcolor=\"#C0C0C0\"] ;\n",
      "117 -> 157 ;\n",
      "158 [label=\"EnvironmentSatisfaction <= 1.5\\nsamples = 460\\nvalue = [660, 57]\\nclass = Yes\", fillcolor=\"#e78c4a\"] ;\n",
      "0 -> 158 [labeldistance=2.5, labelangle=-45, headlabel=\"False\"] ;\n",
      "159 [label=\"YearsAtCompany <= 23.0\\nsamples = 89\\nvalue = [113, 26]\\nclass = Yes\", fillcolor=\"#eb9e67\"] ;\n",
      "158 -> 159 ;\n",
      "160 [label=\"OverTime_Yes <= 0.5\\nsamples = 85\\nvalue = [111, 21]\\nclass = Yes\", fillcolor=\"#ea995e\"] ;\n",
      "159 -> 160 ;\n",
      "161 [label=\"JobInvolvement <= 1.5\\nsamples = 65\\nvalue = [92, 11]\\nclass = Yes\", fillcolor=\"#e89051\"] ;\n",
      "160 -> 161 ;\n",
      "162 [label=\"(...)\", fillcolor=\"#C0C0C0\"] ;\n",
      "161 -> 162 ;\n",
      "163 [label=\"(...)\", fillcolor=\"#C0C0C0\"] ;\n",
      "161 -> 163 ;\n",
      "186 [label=\"Department_Sales <= 0.5\\nsamples = 20\\nvalue = [19, 10]\\nclass = Yes\", fillcolor=\"#f3c3a1\"] ;\n",
      "160 -> 186 ;\n",
      "187 [label=\"(...)\", fillcolor=\"#C0C0C0\"] ;\n",
      "186 -> 187 ;\n",
      "188 [label=\"(...)\", fillcolor=\"#C0C0C0\"] ;\n",
      "186 -> 188 ;\n",
      "195 [label=\"EmployeeNumber <= 841.0\\nsamples = 4\\nvalue = [2, 5]\\nclass = No\", fillcolor=\"#88c4ef\"] ;\n",
      "159 -> 195 ;\n",
      "196 [label=\"samples = 2\\nvalue = [2, 0]\\nclass = Yes\", fillcolor=\"#e58139\"] ;\n",
      "195 -> 196 ;\n",
      "197 [label=\"samples = 2\\nvalue = [0, 5]\\nclass = No\", fillcolor=\"#399de5\"] ;\n",
      "195 -> 197 ;\n",
      "198 [label=\"TotalWorkingYears <= 38.5\\nsamples = 371\\nvalue = [547, 31]\\nclass = Yes\", fillcolor=\"#e68844\"] ;\n",
      "158 -> 198 ;\n",
      "199 [label=\"StockOptionLevel <= 0.5\\nsamples = 370\\nvalue = [547, 30]\\nclass = Yes\", fillcolor=\"#e68844\"] ;\n",
      "198 -> 199 ;\n",
      "200 [label=\"MonthlyRate <= 21528.0\\nsamples = 127\\nvalue = [168, 19]\\nclass = Yes\", fillcolor=\"#e88f4f\"] ;\n",
      "199 -> 200 ;\n",
      "201 [label=\"(...)\", fillcolor=\"#C0C0C0\"] ;\n",
      "200 -> 201 ;\n",
      "222 [label=\"(...)\", fillcolor=\"#C0C0C0\"] ;\n",
      "200 -> 222 ;\n",
      "235 [label=\"YearsSinceLastPromotion <= 3.5\\nsamples = 243\\nvalue = [379, 11]\\nclass = Yes\", fillcolor=\"#e6853f\"] ;\n",
      "199 -> 235 ;\n",
      "236 [label=\"(...)\", fillcolor=\"#C0C0C0\"] ;\n",
      "235 -> 236 ;\n",
      "277 [label=\"(...)\", fillcolor=\"#C0C0C0\"] ;\n",
      "235 -> 277 ;\n",
      "278 [label=\"samples = 1\\nvalue = [0, 1]\\nclass = No\", fillcolor=\"#399de5\"] ;\n",
      "198 -> 278 ;\n",
      "}\n"
     ]
    }
   ],
   "source": [
    "!type RFDT.dot"
   ]
  },
  {
   "cell_type": "code",
   "execution_count": 36,
   "id": "7deb169e",
   "metadata": {
    "id": "7deb169e"
   },
   "outputs": [],
   "source": [
    "# website:- http://www.webgraphviz.com/"
   ]
  },
  {
   "cell_type": "markdown",
   "id": "dace09df",
   "metadata": {
    "id": "dace09df"
   },
   "source": [
    "#### Step9 [RF with a range of trees]"
   ]
  },
  {
   "cell_type": "code",
   "execution_count": 37,
   "id": "73071972",
   "metadata": {},
   "outputs": [],
   "source": [
    "import warnings\n",
    "warnings.filterwarnings('ignore')"
   ]
  },
  {
   "cell_type": "code",
   "execution_count": 38,
   "id": "86b5ac4f",
   "metadata": {
    "id": "86b5ac4f"
   },
   "outputs": [],
   "source": [
    "rf2 = RandomForestClassifier(oob_score=True, random_state=42, warm_start=True, n_jobs=-1)"
   ]
  },
  {
   "cell_type": "code",
   "execution_count": 39,
   "id": "e4322ed7",
   "metadata": {
    "colab": {
     "base_uri": "https://localhost:8080/",
     "height": 484
    },
    "id": "e4322ed7",
    "outputId": "84279688-f661-495b-f471-98e016ecc50b"
   },
   "outputs": [
    {
     "data": {
      "text/html": [
       "<div>\n",
       "<style scoped>\n",
       "    .dataframe tbody tr th:only-of-type {\n",
       "        vertical-align: middle;\n",
       "    }\n",
       "\n",
       "    .dataframe tbody tr th {\n",
       "        vertical-align: top;\n",
       "    }\n",
       "\n",
       "    .dataframe thead th {\n",
       "        text-align: right;\n",
       "    }\n",
       "</style>\n",
       "<table border=\"1\" class=\"dataframe\">\n",
       "  <thead>\n",
       "    <tr style=\"text-align: right;\">\n",
       "      <th></th>\n",
       "      <th>oob</th>\n",
       "    </tr>\n",
       "    <tr>\n",
       "      <th>n_trees</th>\n",
       "      <th></th>\n",
       "    </tr>\n",
       "  </thead>\n",
       "  <tbody>\n",
       "    <tr>\n",
       "      <th>15.0</th>\n",
       "      <td>0.163265</td>\n",
       "    </tr>\n",
       "    <tr>\n",
       "      <th>20.0</th>\n",
       "      <td>0.159014</td>\n",
       "    </tr>\n",
       "    <tr>\n",
       "      <th>30.0</th>\n",
       "      <td>0.148810</td>\n",
       "    </tr>\n",
       "    <tr>\n",
       "      <th>40.0</th>\n",
       "      <td>0.144558</td>\n",
       "    </tr>\n",
       "    <tr>\n",
       "      <th>50.0</th>\n",
       "      <td>0.139456</td>\n",
       "    </tr>\n",
       "    <tr>\n",
       "      <th>100.0</th>\n",
       "      <td>0.140306</td>\n",
       "    </tr>\n",
       "    <tr>\n",
       "      <th>150.0</th>\n",
       "      <td>0.138605</td>\n",
       "    </tr>\n",
       "    <tr>\n",
       "      <th>200.0</th>\n",
       "      <td>0.140306</td>\n",
       "    </tr>\n",
       "    <tr>\n",
       "      <th>300.0</th>\n",
       "      <td>0.137755</td>\n",
       "    </tr>\n",
       "    <tr>\n",
       "      <th>400.0</th>\n",
       "      <td>0.140306</td>\n",
       "    </tr>\n",
       "  </tbody>\n",
       "</table>\n",
       "</div>"
      ],
      "text/plain": [
       "              oob\n",
       "n_trees          \n",
       "15.0     0.163265\n",
       "20.0     0.159014\n",
       "30.0     0.148810\n",
       "40.0     0.144558\n",
       "50.0     0.139456\n",
       "100.0    0.140306\n",
       "150.0    0.138605\n",
       "200.0    0.140306\n",
       "300.0    0.137755\n",
       "400.0    0.140306"
      ]
     },
     "execution_count": 39,
     "metadata": {},
     "output_type": "execute_result"
    }
   ],
   "source": [
    "oob_list = list()\n",
    "# Iterate through all of the possibilities for number of trees\n",
    "for n_trees in [15, 20, 30, 40, 50, 100, 150, 200, 300, 400]:\n",
    "  rf2.set_params(n_estimators=n_trees)\n",
    "  rf2.fit(X_train, y_train)\n",
    "  oob_error = 1-rf2.oob_score_\n",
    "  oob_list.append(pd.Series({'n_trees': n_trees, 'oob': oob_error}))\n",
    "rf_oob_df = pd.concat(oob_list, axis=1).T.set_index('n_trees')\n",
    "rf_oob_df"
   ]
  },
  {
   "cell_type": "markdown",
   "id": "Dcw3CYTyMbgR",
   "metadata": {
    "id": "Dcw3CYTyMbgR"
   },
   "source": [
    "#### Step10 [Plot oob-error for each tree]"
   ]
  },
  {
   "cell_type": "code",
   "execution_count": 40,
   "id": "08a6334e",
   "metadata": {
    "colab": {
     "base_uri": "https://localhost:8080/",
     "height": 351
    },
    "id": "08a6334e",
    "outputId": "5763509c-47d6-49f1-e12e-fdb47bd0cf58"
   },
   "outputs": [
    {
     "data": {
      "text/plain": [
       "[Text(0, 0.5, 'out-of-bag error')]"
      ]
     },
     "execution_count": 40,
     "metadata": {},
     "output_type": "execute_result"
    },
    {
     "data": {
      "image/png": "[encoded data removed]",
      "text/plain": [
       "<Figure size 720x360 with 1 Axes>"
      ]
     },
     "metadata": {
      "needs_background": "light"
     },
     "output_type": "display_data"
    }
   ],
   "source": [
    "ax = rf_oob_df.plot(legend=False, marker='o', figsize=(10,5))\n",
    "ax.set(ylabel='out-of-bag error')"
   ]
  },
  {
   "cell_type": "markdown",
   "id": "MfzUl4rJNXaY",
   "metadata": {
    "id": "MfzUl4rJNXaY"
   },
   "source": [
    "#### Step11 [Compare with DecisionTreeClassifier]"
   ]
  },
  {
   "cell_type": "code",
   "execution_count": 41,
   "id": "4284245d",
   "metadata": {
    "colab": {
     "base_uri": "https://localhost:8080/",
     "height": 75
    },
    "id": "4284245d",
    "outputId": "72f606f3-122a-4d19-b235-63d5362ff74c"
   },
   "outputs": [
    {
     "data": {
      "text/plain": [
       "DecisionTreeClassifier(random_state=0)"
      ]
     },
     "execution_count": 41,
     "metadata": {},
     "output_type": "execute_result"
    }
   ],
   "source": [
    "from sklearn.tree import DecisionTreeClassifier\n",
    "dt = DecisionTreeClassifier(random_state=0)\n",
    "dt.fit(X_train, y_train)"
   ]
  },
  {
   "cell_type": "code",
   "execution_count": 42,
   "id": "17b0bf2e",
   "metadata": {
    "id": "17b0bf2e"
   },
   "outputs": [],
   "source": [
    "dt_ypred = dt.predict(X_test)"
   ]
  },
  {
   "cell_type": "code",
   "execution_count": 43,
   "id": "1448c7be",
   "metadata": {
    "colab": {
     "base_uri": "https://localhost:8080/"
    },
    "id": "1448c7be",
    "outputId": "7017e607-4a5b-4db8-b998-6eff853dc8a3"
   },
   "outputs": [
    {
     "data": {
      "text/plain": [
       "0.7789115646258503"
      ]
     },
     "execution_count": 43,
     "metadata": {},
     "output_type": "execute_result"
    }
   ],
   "source": [
    "accuracy_score(y_test,dt_ypred)"
   ]
  },
  {
   "cell_type": "code",
   "execution_count": 44,
   "id": "b88477b5",
   "metadata": {
    "colab": {
     "base_uri": "https://localhost:8080/"
    },
    "id": "b88477b5",
    "outputId": "a162e331-eaad-4dad-97c1-3ff41c623b42"
   },
   "outputs": [
    {
     "name": "stdout",
     "output_type": "stream",
     "text": [
      "              precision    recall  f1-score   support\n",
      "\n",
      "           0       0.88      0.86      0.87       255\n",
      "           1       0.20      0.23      0.22        39\n",
      "\n",
      "    accuracy                           0.78       294\n",
      "   macro avg       0.54      0.55      0.54       294\n",
      "weighted avg       0.79      0.78      0.78       294\n",
      "\n"
     ]
    }
   ],
   "source": [
    "print(classification_report(y_test,dt_ypred))"
   ]
  },
  {
   "cell_type": "code",
   "execution_count": 45,
   "id": "bf420017",
   "metadata": {
    "id": "bf420017"
   },
   "outputs": [],
   "source": [
    "#Result of Comparison between RF and DT models"
   ]
  },
  {
   "cell_type": "code",
   "execution_count": 46,
   "id": "3c02abfc",
   "metadata": {
    "id": "3c02abfc"
   },
   "outputs": [
    {
     "name": "stdout",
     "output_type": "stream",
     "text": [
      "RF model accuracy: 0.8809523809523809\n",
      "DT model accuracy: 0.7789115646258503\n"
     ]
    }
   ],
   "source": [
    "print('RF model accuracy:',accuracy_score(y_test,y_pred))\n",
    "print('DT model accuracy:',accuracy_score(y_test,dt_ypred))"
   ]
  },
  {
   "cell_type": "raw",
   "id": "e4b6950d",
   "metadata": {
    "id": "4e0712bd"
   },
   "source": [
    "Comparing both models, RF model has the better accuracy."
   ]
  },
  {
   "cell_type": "code",
   "execution_count": 47,
   "id": "975d111e",
   "metadata": {
    "id": "975d111e"
   },
   "outputs": [],
   "source": [
    "# Classification reports"
   ]
  },
  {
   "cell_type": "code",
   "execution_count": 48,
   "id": "f7cde0ff",
   "metadata": {
    "id": "f7cde0ff"
   },
   "outputs": [
    {
     "name": "stdout",
     "output_type": "stream",
     "text": [
      "              precision    recall  f1-score   support\n",
      "\n",
      "           0       0.88      1.00      0.94       255\n",
      "           1       1.00      0.10      0.19        39\n",
      "\n",
      "    accuracy                           0.88       294\n",
      "   macro avg       0.94      0.55      0.56       294\n",
      "weighted avg       0.90      0.88      0.84       294\n",
      "\n"
     ]
    }
   ],
   "source": [
    "print(classification_report(y_test,y_pred))   # RF model"
   ]
  },
  {
   "cell_type": "code",
   "execution_count": 49,
   "id": "3e3dd833",
   "metadata": {},
   "outputs": [
    {
     "name": "stdout",
     "output_type": "stream",
     "text": [
      "              precision    recall  f1-score   support\n",
      "\n",
      "           0       0.88      0.86      0.87       255\n",
      "           1       0.20      0.23      0.22        39\n",
      "\n",
      "    accuracy                           0.78       294\n",
      "   macro avg       0.54      0.55      0.54       294\n",
      "weighted avg       0.79      0.78      0.78       294\n",
      "\n"
     ]
    }
   ],
   "source": [
    "print(classification_report(y_test,dt_ypred))  # DT model"
   ]
  },
  {
   "cell_type": "raw",
   "id": "117983d5",
   "metadata": {},
   "source": [
    "The higher the precision and recall, the higher the F1-score. F1-score ranges between 0 and 1. The closer it is to 1, the better the model."
   ]
  },
  {
   "cell_type": "raw",
   "id": "934da917",
   "metadata": {},
   "source": [
    "And, it is observed that, the f1-score of RF model is better compared to that of DT model."
   ]
  },
  {
   "cell_type": "code",
   "execution_count": null,
   "id": "0a10481f",
   "metadata": {},
   "outputs": [],
   "source": []
  }
 ],
 "metadata": {
  "colab": {
   "provenance": []
  },
  "kernelspec": {
   "display_name": "Python 3 (ipykernel)",
   "language": "python",
   "name": "python3"
  },
  "language_info": {
   "codemirror_mode": {
    "name": "ipython",
    "version": 3
   },
   "file_extension": ".py",
   "mimetype": "text/x-python",
   "name": "python",
   "nbconvert_exporter": "python",
   "pygments_lexer": "ipython3",
   "version": "3.9.12"
  }
 },
 "nbformat": 4,
 "nbformat_minor": 5
}
